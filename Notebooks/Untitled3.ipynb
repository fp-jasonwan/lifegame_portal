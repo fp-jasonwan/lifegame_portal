{
 "cells": [
  {
   "cell_type": "code",
   "execution_count": 1,
   "id": "694126f2-a14d-4dc9-a7ba-8b057db61524",
   "metadata": {},
   "outputs": [],
   "source": [
    "import os\n",
    "import django\n",
    "os.environ.setdefault('DJANGO_SETTINGS_MODULE', 'rest.settings')\n",
    "os.environ[\"DJANGO_ALLOW_ASYNC_UNSAFE\"] = \"true\"\n",
    "django.setup()\n",
    "\n",
    "from account.models import User"
   ]
  },
  {
   "cell_type": "code",
   "execution_count": 2,
   "id": "76a14425-f75e-40a7-8236-56ee2aef48cd",
   "metadata": {},
   "outputs": [],
   "source": [
    "from player.models import Player"
   ]
  },
  {
   "cell_type": "code",
   "execution_count": 7,
   "id": "70b1e479-2e83-4ff0-b540-7e68ef8ff486",
   "metadata": {},
   "outputs": [
    {
     "data": {
      "text/plain": [
       "<QuerySet []>"
      ]
     },
     "execution_count": 7,
     "metadata": {},
     "output_type": "execute_result"
    }
   ],
   "source": [
    "Player.objects.filter(born_defect='None').all()"
   ]
  },
  {
   "cell_type": "code",
   "execution_count": 11,
   "id": "5eac8a1c-bbf9-4b98-aeed-c4269346df18",
   "metadata": {},
   "outputs": [
    {
     "data": {
      "text/plain": [
       "{'_state': <django.db.models.base.ModelState at 0x11d05c100>,\n",
       " 'id': 896,\n",
       " 'user_id': 101,\n",
       " 'active': True,\n",
       " 'born_health_score': 60,\n",
       " 'born_skill_score': 30,\n",
       " 'born_growth_score': 10,\n",
       " 'born_relationship_score': 50,\n",
       " 'born_money': 4000,\n",
       " 'born_academic_level': 0,\n",
       " 'born_steps': 15,\n",
       " 'born_defect': None,\n",
       " 'inactive_reason': None}"
      ]
     },
     "execution_count": 11,
     "metadata": {},
     "output_type": "execute_result"
    }
   ],
   "source": [
    "User.objects.get(id=101).player.__dict__"
   ]
  }
 ],
 "metadata": {
  "kernelspec": {
   "display_name": "Django Shell-Plus",
   "language": "python",
   "name": "django_extensions"
  },
  "language_info": {
   "codemirror_mode": {
    "name": "ipython",
    "version": 3
   },
   "file_extension": ".py",
   "mimetype": "text/x-python",
   "name": "python",
   "nbconvert_exporter": "python",
   "pygments_lexer": "ipython3",
   "version": "3.9.21"
  }
 },
 "nbformat": 4,
 "nbformat_minor": 5
}
