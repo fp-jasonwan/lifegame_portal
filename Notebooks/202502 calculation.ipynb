{
 "cells": [
  {
   "cell_type": "code",
   "execution_count": 1,
   "id": "b4b7a0d2-33d7-43fd-88ef-61ddfc6a9258",
   "metadata": {},
   "outputs": [],
   "source": [
    "import os\n",
    "import django\n",
    "os.environ.setdefault('DJANGO_SETTINGS_MODULE', 'rest.settings')\n",
    "os.environ[\"DJANGO_ALLOW_ASYNC_UNSAFE\"] = \"true\"\n",
    "django.setup()\n",
    "\n",
    "from django.db.models import Sum, Max, Subquery, Q, F, Avg, Count, Min, Max, Sum, F, Q\n",
    "from django.db.models import Value, IntegerField, When, FloatField\n",
    "from django.db.models.functions import Coalesce, Greatest, Floor\n",
    "from account.models import User\n",
    "from booth.models import Booth, Transaction, Participation\n",
    "from player.models import Player\n",
    "import random\n",
    "import pandas as pd\n"
   ]
  },
  {
   "cell_type": "code",
   "execution_count": 2,
   "id": "60e797fa-fa81-4f47-a724-efe3de6aa81d",
   "metadata": {},
   "outputs": [],
   "source": [
    "p = User.objects.get(id=101).player"
   ]
  },
  {
   "cell_type": "code",
   "execution_count": 3,
   "id": "1957d91c-c2c5-4a6d-b813-ac50ae115191",
   "metadata": {},
   "outputs": [
    {
     "data": {
      "text/plain": [
       "{'health_score': 40.0,\n",
       " 'skill_score': 60.0,\n",
       " 'growth_score': 5.0,\n",
       " 'relationship_score': 50.0,\n",
       " 'cash': 15200.0,\n",
       " 'academic_level': '小學畢業',\n",
       " 'steps': 15.0,\n",
       " 'bank_amount': 0.0,\n",
       " 'pay': 100.0,\n",
       " 'receive': 200.0,\n",
       " 'deposit': 500.0,\n",
       " 'withdrawal': 500.0}"
      ]
     },
     "execution_count": 3,
     "metadata": {},
     "output_type": "execute_result"
    }
   ],
   "source": [
    "p.get_scores()"
   ]
  },
  {
   "cell_type": "code",
   "execution_count": 4,
   "id": "5a978207-0bbb-4ccf-8c9b-aeeb9757bc9e",
   "metadata": {},
   "outputs": [
    {
     "name": "stdout",
     "output_type": "stream",
     "text": [
      "{'a': 'sum', 'b': 'sum', 'c': 'max'}\n"
     ]
    }
   ],
   "source": [
    "# Define the columns\n",
    "columns = ['a', 'b', 'c']\n",
    "\n",
    "# Use a lambda function to create the aggregation dictionary\n",
    "aggregation_funcs = lambda cols: {col: 'sum' if col in ['a', 'b'] else 'max' for col in cols}\n",
    "\n",
    "# Generate the result\n",
    "result = aggregation_funcs(columns)\n",
    "\n",
    "# Print the result\n",
    "print(result)"
   ]
  },
  {
   "cell_type": "code",
   "execution_count": 44,
   "id": "cf1b2337-8631-4d62-8327-8ba408c41652",
   "metadata": {},
   "outputs": [],
   "source": [
    "pay = Case(\n",
    "    When(type='pay', then='money'), \n",
    "    default=Value(0.0),\n",
    "    output_field = FloatField()\n",
    ")\n",
    "receive = Case(\n",
    "    When(type='receive', then='money'), \n",
    "    default=Value(0.0),\n",
    "    output_field = FloatField()\n",
    ")\n",
    "deposit = Case(\n",
    "    When(type='deposit', then='money'), \n",
    "    default=Value(0.0),\n",
    "    output_field = FloatField()\n",
    ")\n",
    "withdrawal = Case(\n",
    "    When(type='withdrawal', then='money'), \n",
    "    default=Value(0.0),\n",
    "    output_field = FloatField()\n",
    ")\n",
    "withdrawal_with_interest = Case(\n",
    "    When(type='withdrawal', then=F('money') * (Value(1.0) + F('interest_rate'))), \n",
    "    default=Value(0.0),\n",
    "    output_field = FloatField()\n",
    ")\n",
    "transactions = self.transaction_player.aggregate(\n",
    "    health_score=Sum(Value(0.0)),\n",
    "    skill_score=Sum(Value(0.0)),\n",
    "    growth_score=Sum(Value(0.0)),\n",
    "    relationship_score=Sum(Value(0.0)),\n",
    "    cash=Sum(receive + withdrawal_with_interest - pay - deposit),\n",
    "    bank_amount=Sum(deposit-withdrawal),\n",
    "    academic_level=Sum(Value(0.0)),\n",
    "    steps=Sum(Value(0.0)),\n",
    "    pay=Sum(pay),\n",
    "    receive=Sum(receive),\n",
    "    deposit=Sum(deposit),\n",
    "    withdrawal=Sum(withdrawal)\n",
    ")"
   ]
  },
  {
   "cell_type": "code",
   "execution_count": 40,
   "id": "96b65537-93af-48dc-9390-1fe28adf9165",
   "metadata": {},
   "outputs": [],
   "source": [
    "participations = self.participation_player.aggregate(\n",
    "    health_score=Coalesce(Sum('health_score'), Value(0)),\n",
    "    skill_score=Coalesce(Sum('skill_score'), Value(0)),\n",
    "    growth_score=Coalesce(Sum('growth_score'), Value(0)),\n",
    "    relationship_score=Coalesce(Sum('relationship_score'), Value(0)),\n",
    "    cash=Coalesce(Sum('money'), Value(0)),\n",
    "    academic_level=Coalesce(Max('academic_level'), Value(0)),\n",
    "    steps=Coalesce(Sum('steps'), Value(0)),\n",
    ")"
   ]
  },
  {
   "cell_type": "code",
   "execution_count": 47,
   "id": "97c3f9fb-b1f6-42df-9891-59eba2e42b76",
   "metadata": {},
   "outputs": [
    {
     "data": {
      "text/plain": [
       "health_score            0.0\n",
       "skill_score             0.0\n",
       "growth_score            0.0\n",
       "relationship_score      0.0\n",
       "cash                  200.0\n",
       "bank_amount             0.0\n",
       "academic_level          0.0\n",
       "steps                   0.0\n",
       "pay                   100.0\n",
       "receive               200.0\n",
       "deposit               500.0\n",
       "withdrawal            500.0\n",
       "dtype: float64"
      ]
     },
     "execution_count": 47,
     "metadata": {},
     "output_type": "execute_result"
    }
   ],
   "source": [
    "pd.DataFrame([transactions, participations]).sum()"
   ]
  }
 ],
 "metadata": {
  "kernelspec": {
   "display_name": "Django Shell-Plus",
   "language": "python",
   "name": "django_extensions"
  },
  "language_info": {
   "codemirror_mode": {
    "name": "ipython",
    "version": 3
   },
   "file_extension": ".py",
   "mimetype": "text/x-python",
   "name": "python",
   "nbconvert_exporter": "python",
   "pygments_lexer": "ipython3",
   "version": "3.9.21"
  }
 },
 "nbformat": 4,
 "nbformat_minor": 5
}
