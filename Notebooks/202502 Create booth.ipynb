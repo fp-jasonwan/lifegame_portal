{
 "cells": [
  {
   "cell_type": "code",
   "execution_count": 1,
   "id": "566f3fe5-428d-427e-a066-7958ae9557dd",
   "metadata": {},
   "outputs": [],
   "source": [
    "import os\n",
    "import django\n",
    "os.environ.setdefault('DJANGO_SETTINGS_MODULE', 'rest.settings')\n",
    "os.environ[\"DJANGO_ALLOW_ASYNC_UNSAFE\"] = \"true\"\n",
    "django.setup()\n",
    "\n",
    "from django.db.models import Sum, Max, Subquery, Q, F, Avg, Count, Min, Max, Sum, F, Q\n",
    "from django.db.models import Value, IntegerField\n",
    "from django.db.models.functions import Coalesce, Greatest, Floor\n",
    "from account.models import User\n",
    "from booth.models import Booth, Transaction, Participation\n",
    "from player.models import Player\n",
    "import random\n",
    "import pandas as pd\n"
   ]
  },
  {
   "cell_type": "code",
   "execution_count": 5,
   "id": "58f65950-1b63-491c-a561-632fa66698d9",
   "metadata": {},
   "outputs": [],
   "source": [
    "booth_df = pd.read_csv('../data/booth.csv')"
   ]
  },
  {
   "cell_type": "code",
   "execution_count": 8,
   "id": "2fed87ee-29d0-48d4-9b04-3d8d0d5e2607",
   "metadata": {},
   "outputs": [],
   "source": [
    "for i, r in booth_df.iterrows():\n",
    "    booth_user = User.objects.get(username=r['id'])\n",
    "    booth = Booth(\n",
    "        id = r['id'],\n",
    "        booth_in_charge = booth_user,\n",
    "        name = r['name'],\n",
    "    )\n",
    "    booth.save()\n",
    "    booth.booth_admins.add(booth_user)\n",
    "    booth.save()"
   ]
  },
  {
   "cell_type": "code",
   "execution_count": 2,
   "id": "d6b8756b-1e66-4a42-828d-d8aa11abd6cc",
   "metadata": {},
   "outputs": [],
   "source": [
    "admin = User.objects.get(id=1)\n",
    "for booth in Booth.objects.all():\n",
    "    booth.booth_admins.add(admin)\n",
    "    booth.save()"
   ]
  }
 ],
 "metadata": {
  "kernelspec": {
   "display_name": "Django Shell-Plus",
   "language": "python",
   "name": "django_extensions"
  },
  "language_info": {
   "codemirror_mode": {
    "name": "ipython",
    "version": 3
   },
   "file_extension": ".py",
   "mimetype": "text/x-python",
   "name": "python",
   "nbconvert_exporter": "python",
   "pygments_lexer": "ipython3",
   "version": "3.9.21"
  }
 },
 "nbformat": 4,
 "nbformat_minor": 5
}
