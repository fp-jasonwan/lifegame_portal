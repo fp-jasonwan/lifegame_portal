{
 "cells": [
  {
   "cell_type": "code",
   "execution_count": 1,
   "id": "ae60034c-bc92-4465-8636-eb5a478426a1",
   "metadata": {},
   "outputs": [],
   "source": [
    "import os\n",
    "import django\n",
    "os.environ.setdefault('DJANGO_SETTINGS_MODULE', 'rest.settings')\n",
    "os.environ[\"DJANGO_ALLOW_ASYNC_UNSAFE\"] = \"true\"\n",
    "django.setup()\n",
    "\n",
    "from account.models import User"
   ]
  },
  {
   "cell_type": "code",
   "execution_count": 2,
   "id": "a6d12ad5-3738-47a4-8d4b-bcc125cc529b",
   "metadata": {},
   "outputs": [],
   "source": [
    "from booth.models import Transaction, Participation"
   ]
  },
  {
   "cell_type": "code",
   "execution_count": null,
   "id": "ddfe41ea-97e3-4910-9724-117f7ad72055",
   "metadata": {},
   "outputs": [],
   "source": [
    "Transaction.objects.all().delete()\n",
    "Participation.objects.all().delete()"
   ]
  }
 ],
 "metadata": {
  "kernelspec": {
   "display_name": "Django Shell-Plus",
   "language": "python",
   "name": "django_extensions"
  },
  "language_info": {
   "codemirror_mode": {
    "name": "ipython",
    "version": 3
   },
   "file_extension": ".py",
   "mimetype": "text/x-python",
   "name": "python",
   "nbconvert_exporter": "python",
   "pygments_lexer": "ipython3",
   "version": "3.9.21"
  }
 },
 "nbformat": 4,
 "nbformat_minor": 5
}
