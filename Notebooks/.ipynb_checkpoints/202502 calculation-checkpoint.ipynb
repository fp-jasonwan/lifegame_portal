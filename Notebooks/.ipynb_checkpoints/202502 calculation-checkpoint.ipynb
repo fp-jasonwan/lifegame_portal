{
 "cells": [
  {
   "cell_type": "code",
   "execution_count": 24,
   "id": "b4b7a0d2-33d7-43fd-88ef-61ddfc6a9258",
   "metadata": {},
   "outputs": [],
   "source": [
    "import os\n",
    "import django\n",
    "os.environ.setdefault('DJANGO_SETTINGS_MODULE', 'rest.settings')\n",
    "os.environ[\"DJANGO_ALLOW_ASYNC_UNSAFE\"] = \"true\"\n",
    "django.setup()\n",
    "\n",
    "from django.db.models import Sum, Max, Subquery, Q, F, Avg, Count, Min, Max, Sum, F, Q\n",
    "from django.db.models import Value, IntegerField, When, FloatField\n",
    "from django.db.models.functions import Coalesce, Greatest, Floor\n",
    "from account.models import User\n",
    "from booth.models import Booth, Transaction, Participation\n",
    "from player.models import Player\n",
    "import random\n",
    "import pandas as pd\n"
   ]
  },
  {
   "cell_type": "code",
   "execution_count": 2,
   "id": "60e797fa-fa81-4f47-a724-efe3de6aa81d",
   "metadata": {},
   "outputs": [],
   "source": [
    "p = User.objects.get(id=101).player"
   ]
  },
  {
   "cell_type": "code",
   "execution_count": 3,
   "id": "1957d91c-c2c5-4a6d-b813-ac50ae115191",
   "metadata": {},
   "outputs": [],
   "source": [
    "self = p"
   ]
  },
  {
   "cell_type": "code",
   "execution_count": 33,
   "id": "cf1b2337-8631-4d62-8327-8ba408c41652",
   "metadata": {},
   "outputs": [
    {
     "data": {
      "text/plain": [
       "{'health_score': 0.0,\n",
       " 'skill_score': 0.0,\n",
       " 'growth_score': 0.0,\n",
       " 'relationship_score': 0.0,\n",
       " 'money': 200.0}"
      ]
     },
     "execution_count": 33,
     "metadata": {},
     "output_type": "execute_result"
    }
   ],
   "source": [
    "pay = Case(\n",
    "    When(type='pay', then='money'), \n",
    "    default=Value(0.0),\n",
    "    output_field = FloatField()\n",
    ")\n",
    "receive = Case(\n",
    "    When(type='receive', then='money'), \n",
    "    default=Value(0.0),\n",
    "    output_field = FloatField()\n",
    ")\n",
    "deposit = Case(\n",
    "    When(type='deposit', then='money'), \n",
    "    default=Value(0.0),\n",
    "    output_field = FloatField()\n",
    ")\n",
    "withdrawal = Case(\n",
    "    When(type='withdrawal', then='money'), \n",
    "    default=Value(0.0),\n",
    "    output_field = FloatField()\n",
    ")\n",
    "withdrawal_with_interest = Case(\n",
    "    When(type='withdrawal', then=F('money') * (Value(1.0) + F('interest_rate'))), \n",
    "    default=Value(0.0),\n",
    "    output_field = FloatField()\n",
    ")\n",
    "self.transaction_player.aggregate(\n",
    "    health_score=Sum(Value(0.0)),\n",
    "    skill_score=Sum(Value(0.0)),\n",
    "    growth_score=Sum(Value(0.0)),\n",
    "    relationship_score=Sum(Value(0.0)),\n",
    "    cash=Sum(receive + withdrawal_with_interest - pay - deposit),\n",
    "    bank_amount=Sum(deposit-withdrawal),\n",
    "    academic_level=Sum(Value(0.0)),\n",
    "    steps=Sum(Value(0.0)),\n",
    "    pay=Sum(pay),\n",
    "    receive=Sum(receive),\n",
    "    deposit=Sum(deposit),\n",
    "    withdrawal=Sum(withdrawal)\n",
    ")"
   ]
  },
  {
   "cell_type": "code",
   "execution_count": 6,
   "id": "96b65537-93af-48dc-9390-1fe28adf9165",
   "metadata": {},
   "outputs": [
    {
     "ename": "AttributeError",
     "evalue": "'dict' object has no attribute 'annotate'",
     "output_type": "error",
     "traceback": [
      "\u001b[0;31m---------------------------------------------------------------------------\u001b[0m",
      "\u001b[0;31mAttributeError\u001b[0m                            Traceback (most recent call last)",
      "Cell \u001b[0;32mIn[6], line 27\u001b[0m\n\u001b[1;32m      1\u001b[0m born_status \u001b[38;5;241m=\u001b[39m {\n\u001b[1;32m      2\u001b[0m     \u001b[38;5;124m'\u001b[39m\u001b[38;5;124mhealth_score\u001b[39m\u001b[38;5;124m'\u001b[39m: \u001b[38;5;28mself\u001b[39m\u001b[38;5;241m.\u001b[39mborn_health_score,\n\u001b[1;32m      3\u001b[0m     \u001b[38;5;124m'\u001b[39m\u001b[38;5;124mskill_score\u001b[39m\u001b[38;5;124m'\u001b[39m: \u001b[38;5;28mself\u001b[39m\u001b[38;5;241m.\u001b[39mborn_skill_score,\n\u001b[0;32m   (...)\u001b[0m\n\u001b[1;32m     12\u001b[0m     \u001b[38;5;124m'\u001b[39m\u001b[38;5;124mwithdrawal\u001b[39m\u001b[38;5;124m'\u001b[39m: Value(\u001b[38;5;241m0.0\u001b[39m),\n\u001b[1;32m     13\u001b[0m }\n\u001b[1;32m     14\u001b[0m participations \u001b[38;5;241m=\u001b[39m \u001b[38;5;28mself\u001b[39m\u001b[38;5;241m.\u001b[39mparticipation_player\u001b[38;5;241m.\u001b[39maggregate(\n\u001b[1;32m     15\u001b[0m     health_score\u001b[38;5;241m=\u001b[39mCoalesce(Sum(\u001b[38;5;124m'\u001b[39m\u001b[38;5;124mhealth_score\u001b[39m\u001b[38;5;124m'\u001b[39m), Value(\u001b[38;5;241m0\u001b[39m)),\n\u001b[1;32m     16\u001b[0m     skill_score\u001b[38;5;241m=\u001b[39mCoalesce(Sum(\u001b[38;5;124m'\u001b[39m\u001b[38;5;124mskill_score\u001b[39m\u001b[38;5;124m'\u001b[39m), Value(\u001b[38;5;241m0\u001b[39m)),\n\u001b[0;32m   (...)\u001b[0m\n\u001b[1;32m     25\u001b[0m     withdrawal\u001b[38;5;241m=\u001b[39mSum(Value(\u001b[38;5;241m0.0\u001b[39m)),\n\u001b[1;32m     26\u001b[0m )\n\u001b[0;32m---> 27\u001b[0m transactions \u001b[38;5;241m=\u001b[39m \u001b[38;5;28;43mself\u001b[39;49m\u001b[38;5;241;43m.\u001b[39;49m\u001b[43mtransaction_player\u001b[49m\u001b[38;5;241;43m.\u001b[39;49m\u001b[43maggregate\u001b[49m\u001b[43m(\u001b[49m\n\u001b[1;32m     28\u001b[0m \u001b[43m    \u001b[49m\u001b[43mpay\u001b[49m\u001b[38;5;241;43m=\u001b[39;49m\u001b[43mCoalesce\u001b[49m\u001b[43m(\u001b[49m\u001b[43mSum\u001b[49m\u001b[43m(\u001b[49m\u001b[38;5;124;43m'\u001b[39;49m\u001b[38;5;124;43mmoney\u001b[39;49m\u001b[38;5;124;43m'\u001b[39;49m\u001b[43m,\u001b[49m\u001b[43m \u001b[49m\u001b[38;5;28;43mfilter\u001b[39;49m\u001b[38;5;241;43m=\u001b[39;49m\u001b[43mQ\u001b[49m\u001b[43m(\u001b[49m\u001b[38;5;28;43mtype\u001b[39;49m\u001b[38;5;241;43m=\u001b[39;49m\u001b[38;5;124;43m'\u001b[39;49m\u001b[38;5;124;43mpay\u001b[39;49m\u001b[38;5;124;43m'\u001b[39;49m\u001b[43m)\u001b[49m\u001b[43m)\u001b[49m\u001b[43m,\u001b[49m\u001b[43m \u001b[49m\u001b[43mValue\u001b[49m\u001b[43m(\u001b[49m\u001b[38;5;241;43m0.0\u001b[39;49m\u001b[43m)\u001b[49m\u001b[43m)\u001b[49m\u001b[43m,\u001b[49m\n\u001b[1;32m     29\u001b[0m \u001b[43m    \u001b[49m\u001b[43mreceive\u001b[49m\u001b[38;5;241;43m=\u001b[39;49m\u001b[43mCoalesce\u001b[49m\u001b[43m(\u001b[49m\u001b[43mSum\u001b[49m\u001b[43m(\u001b[49m\u001b[38;5;124;43m'\u001b[39;49m\u001b[38;5;124;43mmoney\u001b[39;49m\u001b[38;5;124;43m'\u001b[39;49m\u001b[43m,\u001b[49m\u001b[43m \u001b[49m\u001b[38;5;28;43mfilter\u001b[39;49m\u001b[38;5;241;43m=\u001b[39;49m\u001b[43mQ\u001b[49m\u001b[43m(\u001b[49m\u001b[38;5;28;43mtype\u001b[39;49m\u001b[38;5;241;43m=\u001b[39;49m\u001b[38;5;124;43m'\u001b[39;49m\u001b[38;5;124;43mreceive\u001b[39;49m\u001b[38;5;124;43m'\u001b[39;49m\u001b[43m)\u001b[49m\u001b[43m)\u001b[49m\u001b[43m,\u001b[49m\u001b[43m \u001b[49m\u001b[43mValue\u001b[49m\u001b[43m(\u001b[49m\u001b[38;5;241;43m0.0\u001b[39;49m\u001b[43m)\u001b[49m\u001b[43m)\u001b[49m\u001b[43m,\u001b[49m\n\u001b[1;32m     30\u001b[0m \u001b[43m    \u001b[49m\u001b[43mdeposit\u001b[49m\u001b[38;5;241;43m=\u001b[39;49m\u001b[43mCoalesce\u001b[49m\u001b[43m(\u001b[49m\u001b[43mSum\u001b[49m\u001b[43m(\u001b[49m\u001b[38;5;124;43m'\u001b[39;49m\u001b[38;5;124;43mmoney\u001b[39;49m\u001b[38;5;124;43m'\u001b[39;49m\u001b[43m,\u001b[49m\u001b[43m \u001b[49m\u001b[38;5;28;43mfilter\u001b[39;49m\u001b[38;5;241;43m=\u001b[39;49m\u001b[43mQ\u001b[49m\u001b[43m(\u001b[49m\u001b[38;5;28;43mtype\u001b[39;49m\u001b[38;5;241;43m=\u001b[39;49m\u001b[38;5;124;43m'\u001b[39;49m\u001b[38;5;124;43mdeposit\u001b[39;49m\u001b[38;5;124;43m'\u001b[39;49m\u001b[43m)\u001b[49m\u001b[43m)\u001b[49m\u001b[43m,\u001b[49m\u001b[43m \u001b[49m\u001b[43mValue\u001b[49m\u001b[43m(\u001b[49m\u001b[38;5;241;43m0.0\u001b[39;49m\u001b[43m)\u001b[49m\u001b[43m)\u001b[49m\u001b[43m,\u001b[49m\n\u001b[1;32m     31\u001b[0m \u001b[43m    \u001b[49m\u001b[43mwithdrawal\u001b[49m\u001b[38;5;241;43m=\u001b[39;49m\u001b[43mCoalesce\u001b[49m\u001b[43m(\u001b[49m\u001b[43mSum\u001b[49m\u001b[43m(\u001b[49m\u001b[43mF\u001b[49m\u001b[43m(\u001b[49m\u001b[38;5;124;43m'\u001b[39;49m\u001b[38;5;124;43mmoney\u001b[39;49m\u001b[38;5;124;43m'\u001b[39;49m\u001b[43m)\u001b[49m\u001b[43m \u001b[49m\u001b[38;5;241;43m*\u001b[39;49m\u001b[43m \u001b[49m\u001b[43m(\u001b[49m\u001b[43mValue\u001b[49m\u001b[43m(\u001b[49m\u001b[38;5;241;43m1.0\u001b[39;49m\u001b[43m)\u001b[49m\u001b[43m \u001b[49m\u001b[38;5;241;43m+\u001b[39;49m\u001b[43m \u001b[49m\u001b[43mF\u001b[49m\u001b[43m(\u001b[49m\u001b[38;5;124;43m'\u001b[39;49m\u001b[38;5;124;43minterest_rate\u001b[39;49m\u001b[38;5;124;43m'\u001b[39;49m\u001b[43m)\u001b[49m\u001b[43m)\u001b[49m\u001b[43m,\u001b[49m\u001b[43m \u001b[49m\u001b[38;5;28;43mfilter\u001b[39;49m\u001b[38;5;241;43m=\u001b[39;49m\u001b[43mQ\u001b[49m\u001b[43m(\u001b[49m\u001b[38;5;28;43mtype\u001b[39;49m\u001b[38;5;241;43m=\u001b[39;49m\u001b[38;5;124;43m'\u001b[39;49m\u001b[38;5;124;43mwithdrawal\u001b[39;49m\u001b[38;5;124;43m'\u001b[39;49m\u001b[43m)\u001b[49m\u001b[43m)\u001b[49m\u001b[43m,\u001b[49m\u001b[43m \u001b[49m\u001b[43mValue\u001b[49m\u001b[43m(\u001b[49m\u001b[38;5;241;43m0.0\u001b[39;49m\u001b[43m)\u001b[49m\u001b[43m)\u001b[49m\u001b[43m,\u001b[49m\n\u001b[1;32m     32\u001b[0m \u001b[43m)\u001b[49m\u001b[38;5;241;43m.\u001b[39;49m\u001b[43mannotate\u001b[49m(\n\u001b[1;32m     33\u001b[0m     health_score\u001b[38;5;241m=\u001b[39mSum(Value(\u001b[38;5;241m0.0\u001b[39m)),\n\u001b[1;32m     34\u001b[0m     skill_score\u001b[38;5;241m=\u001b[39mSum(Value(\u001b[38;5;241m0.0\u001b[39m)),\n\u001b[1;32m     35\u001b[0m     growth_score\u001b[38;5;241m=\u001b[39mSum(Value(\u001b[38;5;241m0.0\u001b[39m)),\n\u001b[1;32m     36\u001b[0m     relationship_score\u001b[38;5;241m=\u001b[39mSum(Value(\u001b[38;5;241m0.0\u001b[39m)),\n\u001b[1;32m     37\u001b[0m     money\u001b[38;5;241m=\u001b[39mSum(Value(\u001b[38;5;241m0.0\u001b[39m)),\n\u001b[1;32m     38\u001b[0m     academic_level\u001b[38;5;241m=\u001b[39mSum(Value(\u001b[38;5;241m0.0\u001b[39m)),\n\u001b[1;32m     39\u001b[0m     steps\u001b[38;5;241m=\u001b[39mSum(Value(\u001b[38;5;241m0.0\u001b[39m)),\n\u001b[1;32m     40\u001b[0m     pay\u001b[38;5;241m=\u001b[39mF(\u001b[38;5;124m'\u001b[39m\u001b[38;5;124mpay\u001b[39m\u001b[38;5;124m'\u001b[39m),\n\u001b[1;32m     41\u001b[0m     receive\u001b[38;5;241m=\u001b[39mF(\u001b[38;5;124m'\u001b[39m\u001b[38;5;124mreceive\u001b[39m\u001b[38;5;124m'\u001b[39m),\n\u001b[1;32m     42\u001b[0m     deposit\u001b[38;5;241m=\u001b[39mF(\u001b[38;5;124m'\u001b[39m\u001b[38;5;124mdeposit\u001b[39m\u001b[38;5;124m'\u001b[39m),\n\u001b[1;32m     43\u001b[0m     withdrawal\u001b[38;5;241m=\u001b[39mF(\u001b[38;5;124m'\u001b[39m\u001b[38;5;124mwithdrawal\u001b[39m\u001b[38;5;124m'\u001b[39m)\n\u001b[1;32m     44\u001b[0m )\n",
      "\u001b[0;31mAttributeError\u001b[0m: 'dict' object has no attribute 'annotate'"
     ]
    }
   ],
   "source": [
    "born_status = {\n",
    "    'health_score': self.born_health_score,\n",
    "    'skill_score': self.born_skill_score,\n",
    "    'growth_score': self.born_growth_score,\n",
    "    'relationship_score': self.born_relationship_score,\n",
    "    'money': self.born_money,\n",
    "    'academic_level': self.born_academic_level,\n",
    "    'steps': self.born_steps,\n",
    "    'pay': Value(0.0),\n",
    "    'receive': Value(0.0),\n",
    "    'deposit': Value(0.0),\n",
    "    'withdrawal': Value(0.0),\n",
    "}\n",
    "participations = self.participation_player.aggregate(\n",
    "    health_score=Coalesce(Sum('health_score'), Value(0)),\n",
    "    skill_score=Coalesce(Sum('skill_score'), Value(0)),\n",
    "    growth_score=Coalesce(Sum('growth_score'), Value(0)),\n",
    "    relationship_score=Coalesce(Sum('relationship_score'), Value(0)),\n",
    "    money=Coalesce(Sum('money'), Value(0)),\n",
    "    academic_level=Coalesce(Max('academic_level'), Value(0)),\n",
    "    steps=Coalesce(Sum('steps'), Value(0)),\n",
    "    pay=Sum(Value(0.0)),\n",
    "    receive=Sum(Value(0.0)),\n",
    "    deposit=Sum(Value(0.0)),\n",
    "    withdrawal=Sum(Value(0.0)),\n",
    ")\n",
    "transactions = self.transaction_player.annotate(\n",
    "    \n",
    ").aggregate(\n",
    "    pay=Coalesce(Sum('money', filter=Q(type='pay')), Value(0.0)),\n",
    "    receive=Coalesce(Sum('money', filter=Q(type='receive')), Value(0.0)),\n",
    "    deposit=Coalesce(Sum('money', filter=Q(type='deposit')), Value(0.0)),\n",
    "    withdrawal=Coalesce(Sum(F('money') * (Value(1.0) + F('interest_rate')), filter=Q(type='withdrawal')), Value(0.0)),\n",
    ").annotate(\n",
    "    health_score=Sum(Value(0.0)),\n",
    "    skill_score=Sum(Value(0.0)),\n",
    "    growth_score=Sum(Value(0.0)),\n",
    "    relationship_score=Sum(Value(0.0)),\n",
    "    money=Sum(Value(0.0)),\n",
    "    academic_level=Sum(Value(0.0)),\n",
    "    steps=Sum(Value(0.0)),\n",
    "    pay=F('pay'),\n",
    "    receive=F('receive'),\n",
    "    deposit=F('deposit'),\n",
    "    withdrawal=F('withdrawal')\n",
    ")"
   ]
  },
  {
   "cell_type": "code",
   "execution_count": null,
   "id": "97c3f9fb-b1f6-42df-9891-59eba2e42b76",
   "metadata": {},
   "outputs": [],
   "source": []
  }
 ],
 "metadata": {
  "kernelspec": {
   "display_name": "Django Shell-Plus",
   "language": "python",
   "name": "django_extensions"
  },
  "language_info": {
   "codemirror_mode": {
    "name": "ipython",
    "version": 3
   },
   "file_extension": ".py",
   "mimetype": "text/x-python",
   "name": "python",
   "nbconvert_exporter": "python",
   "pygments_lexer": "ipython3",
   "version": "3.9.21"
  }
 },
 "nbformat": 4,
 "nbformat_minor": 5
}
