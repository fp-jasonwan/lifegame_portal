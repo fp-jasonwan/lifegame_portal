{
 "cells": [
  {
   "cell_type": "code",
   "execution_count": 1,
   "id": "4e0a35eb-387d-4933-aa1b-f3d6885a6017",
   "metadata": {},
   "outputs": [],
   "source": [
    "import os\n",
    "import django\n",
    "os.environ.setdefault('DJANGO_SETTINGS_MODULE', 'rest.settings')\n",
    "os.environ[\"DJANGO_ALLOW_ASYNC_UNSAFE\"] = \"true\"\n",
    "django.setup()\n",
    "\n",
    "from django.db.models import Sum, Max, Subquery, Q, F, Avg, Count, Min, Max, Sum, F, Q\n",
    "from django.db.models import Value, IntegerField, When, FloatField\n",
    "from django.db.models.functions import Coalesce, Greatest, Floor\n",
    "from account.models import User\n",
    "from booth.models import Booth, Transaction, Participation\n",
    "from player.models import Player\n",
    "import random\n",
    "import pandas as pd\n"
   ]
  },
  {
   "cell_type": "code",
   "execution_count": 3,
   "id": "43d80e6e-14d9-47bf-b0bb-2620144a99f2",
   "metadata": {},
   "outputs": [
    {
     "data": {
      "text/plain": [
       "<QuerySet [{'player': None, 'health_score': None}, {'player': 87, 'health_score': None}, {'player': 184, 'health_score': None}, {'player': 477, 'health_score': None}, {'player': 652, 'health_score': None}, {'player': 273, 'health_score': None}, {'player': 550, 'health_score': None}, {'player': 394, 'health_score': None}, {'player': 51, 'health_score': None}, {'player': 272, 'health_score': None}, {'player': 70, 'health_score': None}, {'player': 190, 'health_score': None}, {'player': 350, 'health_score': None}, {'player': 539, 'health_score': None}, {'player': 554, 'health_score': None}, {'player': 278, 'health_score': None}, {'player': 406, 'health_score': None}, {'player': 424, 'health_score': None}, {'player': 670, 'health_score': None}, {'player': 176, 'health_score': None}, '...(remaining elements truncated)...']>"
      ]
     },
     "execution_count": 3,
     "metadata": {},
     "output_type": "execute_result"
    }
   ],
   "source": [
    "User.objects.values('player').annotate(\n",
    "    health_score=Max('player__born_health_score') + Sum('player__participation_player__health_score'),\n",
    "    skill_score=Max('player__born_skill_score') + Sum('player__participation_player__skill_score'),\n",
    "    growth_score=Max('player__born_growth_score') + Sum('player__participation_player__growth_score'),\n",
    "    relationship_score=Max('player__born_relationship_score') + Sum('player__participation_player__relationship_score'),\n",
    ")"
   ]
  },
  {
   "cell_type": "code",
   "execution_count": null,
   "id": "fe1cae64-daf7-4741-af13-82b2a6a0ea4b",
   "metadata": {},
   "outputs": [],
   "source": []
  }
 ],
 "metadata": {
  "kernelspec": {
   "display_name": "Django Shell-Plus",
   "language": "python",
   "name": "django_extensions"
  },
  "language_info": {
   "codemirror_mode": {
    "name": "ipython",
    "version": 3
   },
   "file_extension": ".py",
   "mimetype": "text/x-python",
   "name": "python",
   "nbconvert_exporter": "python",
   "pygments_lexer": "ipython3",
   "version": "3.9.21"
  }
 },
 "nbformat": 4,
 "nbformat_minor": 5
}
