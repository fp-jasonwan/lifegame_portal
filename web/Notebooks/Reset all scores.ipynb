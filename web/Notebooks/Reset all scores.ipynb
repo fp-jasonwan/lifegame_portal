{
 "cells": [
  {
   "cell_type": "code",
   "execution_count": 1,
   "id": "fabec733",
   "metadata": {},
   "outputs": [],
   "source": [
    "import os\n",
    "import django\n",
    "os.environ.setdefault('DJANGO_SETTINGS_MODULE', 'rest.settings')\n",
    "os.environ[\"DJANGO_ALLOW_ASYNC_UNSAFE\"] = \"true\"\n",
    "django.setup()\n",
    "\n",
    "from account.models import User\n",
    "from booth.models import Transaction, Participation, BoothScoring\n",
    "from player.models import Player"
   ]
  },
  {
   "cell_type": "code",
   "execution_count": 6,
   "id": "ee12fcbd",
   "metadata": {},
   "outputs": [
    {
     "data": {
      "text/plain": [
       "940"
      ]
     },
     "execution_count": 6,
     "metadata": {},
     "output_type": "execute_result"
    }
   ],
   "source": [
    "# reset voting\n",
    "User.objects.update(best_booth=None)"
   ]
  },
  {
   "cell_type": "code",
   "execution_count": 10,
   "id": "8e7163e4",
   "metadata": {},
   "outputs": [
    {
     "name": "stdout",
     "output_type": "stream",
     "text": [
      "(0, {})\n",
      "(0, {})\n"
     ]
    }
   ],
   "source": [
    "# delete all transactions / Participation\n",
    "print(Transaction.objects.all().delete())\n",
    "print(Participation.objects.all().delete())"
   ]
  },
  {
   "cell_type": "code",
   "execution_count": 12,
   "id": "e5f2052d",
   "metadata": {},
   "outputs": [
    {
     "data": {
      "text/plain": [
       "(20, {'booth.BoothScoring': 20})"
      ]
     },
     "execution_count": 12,
     "metadata": {},
     "output_type": "execute_result"
    }
   ],
   "source": [
    "# delete inactive booth scoring\n",
    "BoothScoring.objects.filter(active=False).all().delete()"
   ]
  },
  {
   "cell_type": "code",
   "execution_count": null,
   "id": "34e66aed",
   "metadata": {},
   "outputs": [],
   "source": []
  }
 ],
 "metadata": {
  "kernelspec": {
   "display_name": "Django Shell-Plus",
   "language": "python",
   "name": "django_extensions"
  },
  "language_info": {
   "codemirror_mode": {
    "name": "ipython",
    "version": 3
   },
   "file_extension": ".py",
   "mimetype": "text/x-python",
   "name": "python",
   "nbconvert_exporter": "python",
   "pygments_lexer": "ipython3",
   "version": "3.10.9"
  }
 },
 "nbformat": 4,
 "nbformat_minor": 5
}
