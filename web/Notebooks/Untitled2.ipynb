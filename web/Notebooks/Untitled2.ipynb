{
 "cells": [
  {
   "cell_type": "code",
   "execution_count": 4,
   "id": "209d32c9",
   "metadata": {},
   "outputs": [],
   "source": [
    "import os\n",
    "import django\n",
    "os.environ.setdefault('DJANGO_SETTINGS_MODULE', 'rest.settings')\n",
    "os.environ[\"DJANGO_ALLOW_ASYNC_UNSAFE\"] = \"true\"\n",
    "django.setup()\n",
    "import pandas as pd\n",
    "from account.models import User, InstructorGroup\n",
    "from booth.models import Participation\n",
    "from player.models import Player"
   ]
  },
  {
   "cell_type": "code",
   "execution_count": 6,
   "id": "657e9200",
   "metadata": {},
   "outputs": [
    {
     "data": {
      "text/plain": [
       "<QuerySet [<Participation: 酒吧 - 126 at 20240316 06:02:05>, <Participation: 賭場 - 119 at 20240316 06:02:58>, <Participation: 賭場 - 802 at 20240316 06:05:19>, <Participation: 社區中心 - 154 at 20240316 06:05:45>, <Participation: 社區中心 - 020 at 20240316 06:05:58>, <Participation: 社區中心 - 273 at 20240316 06:06:04>, <Participation: 社區中心 - 182 at 20240316 06:06:36>, <Participation: 小學及中學 - 207 at 20240316 06:06:40>, <Participation: 小學及中學 - 196 at 20240316 06:09:04>, <Participation: 小學及中學 - 192 at 20240316 06:10:06>, <Participation: 酒吧 - 103 at 20240316 06:10:22>, <Participation: 酒吧 - 103 at 20240316 06:10:22>, <Participation: 黑社會 - 123 at 20240316 06:11:11>, <Participation: 酒吧 - 004 at 20240316 06:10:32>, <Participation: 酒吧 - 120 at 20240316 06:11:38>, <Participation: 義工 - 830 at 20240316 06:11:26>, <Participation: 義工 - 548 at 20240316 06:12:07>, <Participation: 黑社會 - 130 at 20240316 06:12:17>, <Participation: 酒吧 - 116 at 20240316 06:12:20>, <Participation: 義工 - 852 at 20240316 06:12:28>, '...(remaining elements truncated)...']>"
      ]
     },
     "execution_count": 6,
     "metadata": {},
     "output_type": "execute_result"
    }
   ],
   "source": [
    "Participation.objects.all().annotate(count=Count('id', distinct=True))"
   ]
  }
 ],
 "metadata": {
  "kernelspec": {
   "display_name": "Django Shell-Plus",
   "language": "python",
   "name": "django_extensions"
  },
  "language_info": {
   "codemirror_mode": {
    "name": "ipython",
    "version": 3
   },
   "file_extension": ".py",
   "mimetype": "text/x-python",
   "name": "python",
   "nbconvert_exporter": "python",
   "pygments_lexer": "ipython3",
   "version": "3.10.9"
  }
 },
 "nbformat": 4,
 "nbformat_minor": 5
}
