{
 "cells": [
  {
   "cell_type": "code",
   "execution_count": 4,
   "id": "0292af86",
   "metadata": {},
   "outputs": [],
   "source": [
    "import os\n",
    "import django\n",
    "os.environ.setdefault('DJANGO_SETTINGS_MODULE', 'rest.settings')\n",
    "os.environ[\"DJANGO_ALLOW_ASYNC_UNSAFE\"] = \"true\"\n",
    "django.setup()\n",
    "import pandas as pd\n",
    "from account.models import User, InstructorGroup\n",
    "from booth.models import Participation\n",
    "from player.models import Player"
   ]
  },
  {
   "cell_type": "code",
   "execution_count": 7,
   "id": "39e0ced1",
   "metadata": {},
   "outputs": [
    {
     "ename": "FieldError",
     "evalue": "Cannot compute Sum('money'): 'money' is an aggregate",
     "output_type": "error",
     "traceback": [
      "\u001b[1;31m---------------------------------------------------------------------------\u001b[0m",
      "\u001b[1;31mFieldError\u001b[0m                                Traceback (most recent call last)",
      "Cell \u001b[1;32mIn[7], line 5\u001b[0m\n\u001b[0;32m      2\u001b[0m u \u001b[38;5;241m=\u001b[39m User\u001b[38;5;241m.\u001b[39mobjects\u001b[38;5;241m.\u001b[39mget(\u001b[38;5;28mid\u001b[39m\u001b[38;5;241m=\u001b[39m\u001b[38;5;241m240\u001b[39m)\n\u001b[0;32m      3\u001b[0m p \u001b[38;5;241m=\u001b[39m Player\u001b[38;5;241m.\u001b[39mobjects\u001b[38;5;241m.\u001b[39mget(user\u001b[38;5;241m=\u001b[39mu)\n\u001b[1;32m----> 5\u001b[0m \u001b[43mp\u001b[49m\u001b[38;5;241;43m.\u001b[39;49m\u001b[43mget_scores\u001b[49m\u001b[43m(\u001b[49m\u001b[43m)\u001b[49m\n",
      "File \u001b[1;32m~\\git\\lifegame_portal\\web\\player\\models.py:64\u001b[0m, in \u001b[0;36mPlayer.get_scores\u001b[1;34m(self)\u001b[0m\n\u001b[0;32m     62\u001b[0m \u001b[38;5;28;01mdef\u001b[39;00m \u001b[38;5;21mget_scores\u001b[39m(\u001b[38;5;28mself\u001b[39m):\n\u001b[0;32m     63\u001b[0m     participations \u001b[38;5;241m=\u001b[39m Participation\u001b[38;5;241m.\u001b[39mget_player_participation(\u001b[38;5;28mself\u001b[39m)\n\u001b[1;32m---> 64\u001b[0m     transactions \u001b[38;5;241m=\u001b[39m \u001b[43mTransaction\u001b[49m\u001b[38;5;241;43m.\u001b[39;49m\u001b[43mget_player_transactions\u001b[49m\u001b[43m(\u001b[49m\u001b[38;5;28;43mself\u001b[39;49m\u001b[43m)\u001b[49m\n\u001b[0;32m     65\u001b[0m     result_dict \u001b[38;5;241m=\u001b[39m participations\n\u001b[0;32m     66\u001b[0m     result_dict[\u001b[38;5;124m'\u001b[39m\u001b[38;5;124mmoney\u001b[39m\u001b[38;5;124m'\u001b[39m] \u001b[38;5;241m+\u001b[39m\u001b[38;5;241m=\u001b[39m transactions[\u001b[38;5;124m'\u001b[39m\u001b[38;5;124mmoney\u001b[39m\u001b[38;5;124m'\u001b[39m]\n",
      "File \u001b[1;32m~\\git\\lifegame_portal\\web\\booth\\models.py:188\u001b[0m, in \u001b[0;36mTransaction.get_player_transactions\u001b[1;34m(player)\u001b[0m\n\u001b[0;32m    181\u001b[0m withdrawal_money \u001b[38;5;241m=\u001b[39m Coalesce(\n\u001b[0;32m    182\u001b[0m     Floor(\n\u001b[0;32m    183\u001b[0m         Sum(F(\u001b[38;5;124m'\u001b[39m\u001b[38;5;124mmoney\u001b[39m\u001b[38;5;124m'\u001b[39m) \u001b[38;5;241m*\u001b[39m (\u001b[38;5;241m1\u001b[39m \u001b[38;5;241m+\u001b[39m F(\u001b[38;5;124m'\u001b[39m\u001b[38;5;124minterest_rate\u001b[39m\u001b[38;5;124m'\u001b[39m)), output_field\u001b[38;5;241m=\u001b[39mIntegerField(), \u001b[38;5;28mfilter\u001b[39m\u001b[38;5;241m=\u001b[39mQ(\u001b[38;5;28mtype\u001b[39m\u001b[38;5;241m=\u001b[39m\u001b[38;5;124m'\u001b[39m\u001b[38;5;124mwithdrawal\u001b[39m\u001b[38;5;124m'\u001b[39m))\n\u001b[0;32m    184\u001b[0m     ), \n\u001b[0;32m    185\u001b[0m     Value(\u001b[38;5;241m0\u001b[39m)\n\u001b[0;32m    186\u001b[0m )\n\u001b[0;32m    187\u001b[0m withdrawal_deposit \u001b[38;5;241m=\u001b[39m Coalesce(Sum(F(\u001b[38;5;124m'\u001b[39m\u001b[38;5;124mmoney\u001b[39m\u001b[38;5;124m'\u001b[39m), \u001b[38;5;28mfilter\u001b[39m\u001b[38;5;241m=\u001b[39mQ(\u001b[38;5;28mtype\u001b[39m\u001b[38;5;241m=\u001b[39m\u001b[38;5;124m'\u001b[39m\u001b[38;5;124mwithdrawal\u001b[39m\u001b[38;5;124m'\u001b[39m)), Value(\u001b[38;5;241m0\u001b[39m))\n\u001b[1;32m--> 188\u001b[0m \u001b[38;5;28;01mreturn\u001b[39;00m \u001b[43mplayer_trx\u001b[49m\u001b[38;5;241;43m.\u001b[39;49m\u001b[43maggregate\u001b[49m\u001b[43m(\u001b[49m\n\u001b[0;32m    189\u001b[0m \u001b[43m    \u001b[49m\u001b[43mmoney\u001b[49m\u001b[43m \u001b[49m\u001b[38;5;241;43m=\u001b[39;49m\u001b[43m \u001b[49m\u001b[43mpay\u001b[49m\u001b[43m \u001b[49m\u001b[38;5;241;43m-\u001b[39;49m\u001b[43m \u001b[49m\u001b[43mreceive\u001b[49m\u001b[43m \u001b[49m\u001b[38;5;241;43m-\u001b[39;49m\u001b[43m \u001b[49m\u001b[43mdeposit\u001b[49m\u001b[43m \u001b[49m\u001b[38;5;241;43m+\u001b[39;49m\u001b[43m \u001b[49m\u001b[43mwithdrawal_money\u001b[49m\u001b[43m,\u001b[49m\n\u001b[0;32m    190\u001b[0m \u001b[43m    \u001b[49m\u001b[43mdeposit\u001b[49m\u001b[43m \u001b[49m\u001b[38;5;241;43m=\u001b[39;49m\u001b[43m \u001b[49m\u001b[43mdeposit\u001b[49m\u001b[43m \u001b[49m\u001b[38;5;241;43m-\u001b[39;49m\u001b[43m \u001b[49m\u001b[43mwithdrawal_deposit\u001b[49m\u001b[43m,\u001b[49m\n\u001b[0;32m    191\u001b[0m \u001b[43m\u001b[49m\u001b[43m)\u001b[49m\n",
      "File \u001b[1;32m~\\anaconda3\\lib\\site-packages\\django\\db\\models\\query.py:604\u001b[0m, in \u001b[0;36mQuerySet.aggregate\u001b[1;34m(self, *args, **kwargs)\u001b[0m\n\u001b[0;32m    601\u001b[0m         \u001b[38;5;28;01mraise\u001b[39;00m \u001b[38;5;167;01mTypeError\u001b[39;00m(\u001b[38;5;124m\"\u001b[39m\u001b[38;5;124mComplex aggregates require an alias\u001b[39m\u001b[38;5;124m\"\u001b[39m)\n\u001b[0;32m    602\u001b[0m     kwargs[arg\u001b[38;5;241m.\u001b[39mdefault_alias] \u001b[38;5;241m=\u001b[39m arg\n\u001b[1;32m--> 604\u001b[0m \u001b[38;5;28;01mreturn\u001b[39;00m \u001b[38;5;28;43mself\u001b[39;49m\u001b[38;5;241;43m.\u001b[39;49m\u001b[43mquery\u001b[49m\u001b[38;5;241;43m.\u001b[39;49m\u001b[43mchain\u001b[49m\u001b[43m(\u001b[49m\u001b[43m)\u001b[49m\u001b[38;5;241;43m.\u001b[39;49m\u001b[43mget_aggregation\u001b[49m\u001b[43m(\u001b[49m\u001b[38;5;28;43mself\u001b[39;49m\u001b[38;5;241;43m.\u001b[39;49m\u001b[43mdb\u001b[49m\u001b[43m,\u001b[49m\u001b[43m \u001b[49m\u001b[43mkwargs\u001b[49m\u001b[43m)\u001b[49m\n",
      "File \u001b[1;32m~\\anaconda3\\lib\\site-packages\\django\\db\\models\\sql\\query.py:459\u001b[0m, in \u001b[0;36mQuery.get_aggregation\u001b[1;34m(self, using, aggregate_exprs)\u001b[0m\n\u001b[0;32m    457\u001b[0m \u001b[38;5;28;01mfor\u001b[39;00m alias, aggregate_expr \u001b[38;5;129;01min\u001b[39;00m aggregate_exprs\u001b[38;5;241m.\u001b[39mitems():\n\u001b[0;32m    458\u001b[0m     \u001b[38;5;28mself\u001b[39m\u001b[38;5;241m.\u001b[39mcheck_alias(alias)\n\u001b[1;32m--> 459\u001b[0m     aggregate \u001b[38;5;241m=\u001b[39m \u001b[43maggregate_expr\u001b[49m\u001b[38;5;241;43m.\u001b[39;49m\u001b[43mresolve_expression\u001b[49m\u001b[43m(\u001b[49m\n\u001b[0;32m    460\u001b[0m \u001b[43m        \u001b[49m\u001b[38;5;28;43mself\u001b[39;49m\u001b[43m,\u001b[49m\u001b[43m \u001b[49m\u001b[43mallow_joins\u001b[49m\u001b[38;5;241;43m=\u001b[39;49m\u001b[38;5;28;43;01mTrue\u001b[39;49;00m\u001b[43m,\u001b[49m\u001b[43m \u001b[49m\u001b[43mreuse\u001b[49m\u001b[38;5;241;43m=\u001b[39;49m\u001b[38;5;28;43;01mNone\u001b[39;49;00m\u001b[43m,\u001b[49m\u001b[43m \u001b[49m\u001b[43msummarize\u001b[49m\u001b[38;5;241;43m=\u001b[39;49m\u001b[38;5;28;43;01mTrue\u001b[39;49;00m\n\u001b[0;32m    461\u001b[0m \u001b[43m    \u001b[49m\u001b[43m)\u001b[49m\n\u001b[0;32m    462\u001b[0m     \u001b[38;5;28;01mif\u001b[39;00m \u001b[38;5;129;01mnot\u001b[39;00m aggregate\u001b[38;5;241m.\u001b[39mcontains_aggregate:\n\u001b[0;32m    463\u001b[0m         \u001b[38;5;28;01mraise\u001b[39;00m \u001b[38;5;167;01mTypeError\u001b[39;00m(\u001b[38;5;124m\"\u001b[39m\u001b[38;5;132;01m%s\u001b[39;00m\u001b[38;5;124m is not an aggregate expression\u001b[39m\u001b[38;5;124m\"\u001b[39m \u001b[38;5;241m%\u001b[39m alias)\n",
      "File \u001b[1;32m~\\anaconda3\\lib\\site-packages\\django\\db\\models\\expressions.py:720\u001b[0m, in \u001b[0;36mCombinedExpression.resolve_expression\u001b[1;34m(self, query, allow_joins, reuse, summarize, for_save)\u001b[0m\n\u001b[0;32m    717\u001b[0m \u001b[38;5;28;01mdef\u001b[39;00m \u001b[38;5;21mresolve_expression\u001b[39m(\n\u001b[0;32m    718\u001b[0m     \u001b[38;5;28mself\u001b[39m, query\u001b[38;5;241m=\u001b[39m\u001b[38;5;28;01mNone\u001b[39;00m, allow_joins\u001b[38;5;241m=\u001b[39m\u001b[38;5;28;01mTrue\u001b[39;00m, reuse\u001b[38;5;241m=\u001b[39m\u001b[38;5;28;01mNone\u001b[39;00m, summarize\u001b[38;5;241m=\u001b[39m\u001b[38;5;28;01mFalse\u001b[39;00m, for_save\u001b[38;5;241m=\u001b[39m\u001b[38;5;28;01mFalse\u001b[39;00m\n\u001b[0;32m    719\u001b[0m ):\n\u001b[1;32m--> 720\u001b[0m     lhs \u001b[38;5;241m=\u001b[39m \u001b[38;5;28;43mself\u001b[39;49m\u001b[38;5;241;43m.\u001b[39;49m\u001b[43mlhs\u001b[49m\u001b[38;5;241;43m.\u001b[39;49m\u001b[43mresolve_expression\u001b[49m\u001b[43m(\u001b[49m\n\u001b[0;32m    721\u001b[0m \u001b[43m        \u001b[49m\u001b[43mquery\u001b[49m\u001b[43m,\u001b[49m\u001b[43m \u001b[49m\u001b[43mallow_joins\u001b[49m\u001b[43m,\u001b[49m\u001b[43m \u001b[49m\u001b[43mreuse\u001b[49m\u001b[43m,\u001b[49m\u001b[43m \u001b[49m\u001b[43msummarize\u001b[49m\u001b[43m,\u001b[49m\u001b[43m \u001b[49m\u001b[43mfor_save\u001b[49m\n\u001b[0;32m    722\u001b[0m \u001b[43m    \u001b[49m\u001b[43m)\u001b[49m\n\u001b[0;32m    723\u001b[0m     rhs \u001b[38;5;241m=\u001b[39m \u001b[38;5;28mself\u001b[39m\u001b[38;5;241m.\u001b[39mrhs\u001b[38;5;241m.\u001b[39mresolve_expression(\n\u001b[0;32m    724\u001b[0m         query, allow_joins, reuse, summarize, for_save\n\u001b[0;32m    725\u001b[0m     )\n\u001b[0;32m    726\u001b[0m     \u001b[38;5;28;01mif\u001b[39;00m \u001b[38;5;129;01mnot\u001b[39;00m \u001b[38;5;28misinstance\u001b[39m(\u001b[38;5;28mself\u001b[39m, (DurationExpression, TemporalSubtraction)):\n",
      "File \u001b[1;32m~\\anaconda3\\lib\\site-packages\\django\\db\\models\\expressions.py:975\u001b[0m, in \u001b[0;36mFunc.resolve_expression\u001b[1;34m(self, query, allow_joins, reuse, summarize, for_save)\u001b[0m\n\u001b[0;32m    973\u001b[0m c\u001b[38;5;241m.\u001b[39mis_summary \u001b[38;5;241m=\u001b[39m summarize\n\u001b[0;32m    974\u001b[0m \u001b[38;5;28;01mfor\u001b[39;00m pos, arg \u001b[38;5;129;01min\u001b[39;00m \u001b[38;5;28menumerate\u001b[39m(c\u001b[38;5;241m.\u001b[39msource_expressions):\n\u001b[1;32m--> 975\u001b[0m     c\u001b[38;5;241m.\u001b[39msource_expressions[pos] \u001b[38;5;241m=\u001b[39m \u001b[43marg\u001b[49m\u001b[38;5;241;43m.\u001b[39;49m\u001b[43mresolve_expression\u001b[49m\u001b[43m(\u001b[49m\n\u001b[0;32m    976\u001b[0m \u001b[43m        \u001b[49m\u001b[43mquery\u001b[49m\u001b[43m,\u001b[49m\u001b[43m \u001b[49m\u001b[43mallow_joins\u001b[49m\u001b[43m,\u001b[49m\u001b[43m \u001b[49m\u001b[43mreuse\u001b[49m\u001b[43m,\u001b[49m\u001b[43m \u001b[49m\u001b[43msummarize\u001b[49m\u001b[43m,\u001b[49m\u001b[43m \u001b[49m\u001b[43mfor_save\u001b[49m\n\u001b[0;32m    977\u001b[0m \u001b[43m    \u001b[49m\u001b[43m)\u001b[49m\n\u001b[0;32m    978\u001b[0m \u001b[38;5;28;01mreturn\u001b[39;00m c\n",
      "File \u001b[1;32m~\\anaconda3\\lib\\site-packages\\django\\db\\models\\aggregates.py:73\u001b[0m, in \u001b[0;36mAggregate.resolve_expression\u001b[1;34m(self, query, allow_joins, reuse, summarize, for_save)\u001b[0m\n\u001b[0;32m     71\u001b[0m     \u001b[38;5;28;01mfor\u001b[39;00m ref \u001b[38;5;129;01min\u001b[39;00m c\u001b[38;5;241m.\u001b[39mget_refs():\n\u001b[0;32m     72\u001b[0m         \u001b[38;5;28;01mif\u001b[39;00m query\u001b[38;5;241m.\u001b[39mannotations[ref]\u001b[38;5;241m.\u001b[39mis_summary:\n\u001b[1;32m---> 73\u001b[0m             \u001b[38;5;28;01mraise\u001b[39;00m FieldError(\n\u001b[0;32m     74\u001b[0m                 \u001b[38;5;124mf\u001b[39m\u001b[38;5;124m\"\u001b[39m\u001b[38;5;124mCannot compute \u001b[39m\u001b[38;5;132;01m{\u001b[39;00mc\u001b[38;5;241m.\u001b[39mname\u001b[38;5;132;01m}\u001b[39;00m\u001b[38;5;124m(\u001b[39m\u001b[38;5;124m'\u001b[39m\u001b[38;5;132;01m{\u001b[39;00mref\u001b[38;5;132;01m}\u001b[39;00m\u001b[38;5;124m'\u001b[39m\u001b[38;5;124m): \u001b[39m\u001b[38;5;124m'\u001b[39m\u001b[38;5;132;01m{\u001b[39;00mref\u001b[38;5;132;01m}\u001b[39;00m\u001b[38;5;124m'\u001b[39m\u001b[38;5;124m is an aggregate\u001b[39m\u001b[38;5;124m\"\u001b[39m\n\u001b[0;32m     75\u001b[0m             )\n\u001b[0;32m     76\u001b[0m \u001b[38;5;28;01melif\u001b[39;00m \u001b[38;5;129;01mnot\u001b[39;00m \u001b[38;5;28mself\u001b[39m\u001b[38;5;241m.\u001b[39mis_summary:\n\u001b[0;32m     77\u001b[0m     \u001b[38;5;66;03m# Call Aggregate.get_source_expressions() to avoid\u001b[39;00m\n\u001b[0;32m     78\u001b[0m     \u001b[38;5;66;03m# returning self.filter and including that in this loop.\u001b[39;00m\n\u001b[0;32m     79\u001b[0m     expressions \u001b[38;5;241m=\u001b[39m \u001b[38;5;28msuper\u001b[39m(Aggregate, c)\u001b[38;5;241m.\u001b[39mget_source_expressions()\n",
      "\u001b[1;31mFieldError\u001b[0m: Cannot compute Sum('money'): 'money' is an aggregate"
     ]
    }
   ],
   "source": [
    "# User.objects.get(id=240).get_scores()\n",
    "u = User.objects.get(id=240)\n",
    "p = Player.objects.get(user=u)\n",
    "\n",
    "p.get_scores()"
   ]
  }
 ],
 "metadata": {
  "kernelspec": {
   "display_name": "Django Shell-Plus",
   "language": "python",
   "name": "django_extensions"
  },
  "language_info": {
   "codemirror_mode": {
    "name": "ipython",
    "version": 3
   },
   "file_extension": ".py",
   "mimetype": "text/x-python",
   "name": "python",
   "nbconvert_exporter": "python",
   "pygments_lexer": "ipython3",
   "version": "3.10.9"
  }
 },
 "nbformat": 4,
 "nbformat_minor": 5
}
