{
 "cells": [
  {
   "cell_type": "code",
   "execution_count": 3,
   "id": "ffe3dbe5",
   "metadata": {},
   "outputs": [],
   "source": [
    "import os\n",
    "import django\n",
    "os.environ.setdefault('DJANGO_SETTINGS_MODULE', 'rest.settings')\n",
    "os.environ[\"DJANGO_ALLOW_ASYNC_UNSAFE\"] = \"true\"\n",
    "django.setup()\n",
    "\n",
    "from account.models import User"
   ]
  },
  {
   "cell_type": "code",
   "execution_count": 4,
   "id": "353b674f",
   "metadata": {},
   "outputs": [
    {
     "data": {
      "text/plain": [
       "<QuerySet []>"
      ]
     },
     "execution_count": 4,
     "metadata": {},
     "output_type": "execute_result"
    }
   ],
   "source": [
    "User.objects.all()"
   ]
  },
  {
   "cell_type": "code",
   "execution_count": 6,
   "id": "994fc32d",
   "metadata": {},
   "outputs": [],
   "source": [
    "admin = User.objects.get(id=1)\n",
    "admin.id = 999\n",
    "User.objects.get(id=1).delete()\n",
    "admin.save()"
   ]
  },
  {
   "cell_type": "code",
   "execution_count": 7,
   "id": "4bbb2654",
   "metadata": {},
   "outputs": [],
   "source": [
    "# Create students account  (1-499)\n",
    "for i in range(1,500):\n",
    "    User.objects.create(\n",
    "        id = i,\n",
    "        username = i,\n",
    "        password = 'lifegame', \n",
    "        user_type = 'student',\n",
    "        first_name = 'first_name',\n",
    "        last_name = 'last_name',\n",
    "        nick_name = 'nick_name',\n",
    "        school = 'school', \n",
    "        school_code = ''\n",
    "    )"
   ]
  },
  {
   "cell_type": "code",
   "execution_count": 4,
   "id": "f0937ad3",
   "metadata": {},
   "outputs": [],
   "source": [
    "for i in range(1,500):\n",
    "    user = User.objects.get(id=i)\n",
    "    player = user.get_player()\n",
    "    player.born_health_score = 100\n",
    "    player.born_skill_score = 100\n",
    "    player.born_growth_score = 100\n",
    "    player.born_relationship_score = 100\n",
    "    player.born_money = 100\n",
    "    player.born_academic_level = 1\n",
    "    player.born_steps = 15\n",
    "    player.save()"
   ]
  },
  {
   "cell_type": "code",
   "execution_count": 8,
   "id": "2f89e33d",
   "metadata": {},
   "outputs": [],
   "source": [
    "# Create VIP account  (501-799)\n",
    "for i in range(501,800):\n",
    "    User.objects.create(\n",
    "        id = i,\n",
    "        username = i,\n",
    "        password = 'lifegame', \n",
    "        user_type = 'vip',\n",
    "        first_name = 'first_name',\n",
    "        last_name = 'last_name',\n",
    "        nick_name = 'nick_name',\n",
    "        school = 'school', \n",
    "        school_code = ''\n",
    "    )"
   ]
  },
  {
   "cell_type": "code",
   "execution_count": 9,
   "id": "668b2765",
   "metadata": {},
   "outputs": [],
   "source": [
    "# Create instructor account (801-900)\n",
    "for i in range(801,900):\n",
    "    User.objects.create(\n",
    "        id = i,\n",
    "        username = i,\n",
    "        password = 'lifegame', \n",
    "        user_type = 'insturctor',\n",
    "        first_name = 'first_name',\n",
    "        last_name = 'last_name',\n",
    "        nick_name = 'nick_name',\n",
    "        school = 'lions club', \n",
    "        school_code = ''\n",
    "    )"
   ]
  },
  {
   "cell_type": "code",
   "execution_count": 10,
   "id": "52200641",
   "metadata": {},
   "outputs": [],
   "source": [
    "# Create booth account\n",
    "booth_id_list = ['G1','G2','G3','G4','G5','G6','G7','G8','S1','S2','S3','W1','W2','W3','W4','W5','W6','W7','W8','W9','C1','C2','C3','C4','C5','C6','C7','C8','C9','E1','E2','E3','E4','R1','R2','R3','R4','R5','R6','R7','A1',]\n",
    "i = 901\n",
    "for id in booth_id_list:\n",
    "    User.objects.create(\n",
    "        id = i,\n",
    "        username = id,\n",
    "        password = 'lifegame', \n",
    "        user_type = 'oc',\n",
    "        first_name = id,\n",
    "        last_name = 'last_name',\n",
    "        nick_name = 'nick_name',\n",
    "        school = '', \n",
    "        school_code = ''\n",
    "    )\n",
    "    i += 1"
   ]
  },
  {
   "cell_type": "code",
   "execution_count": 7,
   "id": "ea092800",
   "metadata": {},
   "outputs": [],
   "source": [
    "user = User.objects.get(id=901)\n",
    "user.set_password('lifegame')\n",
    "user.save()"
   ]
  },
  {
   "cell_type": "code",
   "execution_count": 11,
   "id": "e9eb1d9f",
   "metadata": {},
   "outputs": [],
   "source": [
    "# create Booth\n",
    "booth_dict = {\n",
    "    'G1': '銀行',\n",
    "    'G2': '監獄',\n",
    "    'G3_急症室求診者': '醫院',\n",
    "    'G3_普通求診者': '醫院',\n",
    "    'G3_器官/組織捐贈者': '醫院',\n",
    "    'G4': '公園',\n",
    "    'G5': '稅局',\n",
    "    'G6': '法院',\n",
    "    'G7': '警局',\n",
    "    'G8': '社署',\n",
    "    'S1': '小學及中學',\n",
    "    'S2': '大學',\n",
    "    'S3': '身心靈學院',\n",
    "    'W1': '職業培訓中心',\n",
    "    'W2': '報館',\n",
    "    'W3': '健身室',\n",
    "    'W4': '語言中心',\n",
    "    'W5': '物理治療診所',\n",
    "    'W6': '律師樓',\n",
    "    'W7': '酒店',\n",
    "    'W8': '幼兒中心',\n",
    "    'W9_機長': '航空公司',\n",
    "    'W9_空中服務員': '航空公司',\n",
    "    'C1': '黑社會',\n",
    "    'C2': '股票交易所',\n",
    "    'C3': '虛擬貨幣交易所',\n",
    "    'C4': '地產公司',\n",
    "    'C5': '選舉投票站',\n",
    "    'C6': '社區中心',\n",
    "    'C7': '信貸公司',\n",
    "    'C8': '創業中心',\n",
    "    'C9_一般保險投保人': '保險公司',\n",
    "    'C9_MPF僱員': '保險公司',\n",
    "    'C9_需要索償投保人': '保險公司',\n",
    "    'E1': '賭場',\n",
    "    'E2_參與者': '酒吧',\n",
    "    'E2_參與酒game者': '酒吧',\n",
    "    'E2_調酒員': '酒吧',\n",
    "    'E3': '卡拉OK',\n",
    "    'E4_粉絲': '兼職情人',\n",
    "    'E4_粉絲的朋友': '兼職情人',\n",
    "    'R1': '婚姻註冊處',\n",
    "    'R2': '家庭',\n",
    "    'R3': '友情',\n",
    "    'R4_死者': '生死教育',\n",
    "    'R4_遺體認領人': '生死教育',\n",
    "    'R4_旁觀者': '生死教育',\n",
    "    'R5': '交友app',\n",
    "    'R6': '情緒教育',\n",
    "    'R7': '一夜情',\n",
    "    'A1': '義工',\n",
    "}\n",
    "for k, v in booth_dict.items():\n",
    "    booth_id = k[:2]\n",
    "    booth_in_charge = User.objects.get(username=booth_id)\n",
    "    new_booth = Booth.objects.create(\n",
    "        id=k,\n",
    "        booth_in_charge=booth_in_charge,\n",
    "        name = v\n",
    "    )\n",
    "    new_booth.booth_admins.set([booth_in_charge])"
   ]
  },
  {
   "cell_type": "code",
   "execution_count": 14,
   "id": "f8fccf74",
   "metadata": {},
   "outputs": [],
   "source": []
  }
 ],
 "metadata": {
  "kernelspec": {
   "display_name": "Django Shell-Plus",
   "language": "python",
   "name": "django_extensions"
  },
  "language_info": {
   "codemirror_mode": {
    "name": "ipython",
    "version": 3
   },
   "file_extension": ".py",
   "mimetype": "text/x-python",
   "name": "python",
   "nbconvert_exporter": "python",
   "pygments_lexer": "ipython3",
   "version": "3.10.9"
  }
 },
 "nbformat": 4,
 "nbformat_minor": 5
}
