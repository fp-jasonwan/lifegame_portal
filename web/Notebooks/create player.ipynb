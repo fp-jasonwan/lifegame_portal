{
 "cells": [
  {
   "cell_type": "code",
   "execution_count": 1,
   "id": "c85e727a",
   "metadata": {},
   "outputs": [],
   "source": [
    "import os\n",
    "import django\n",
    "os.environ.setdefault('DJANGO_SETTINGS_MODULE', 'rest.settings')\n",
    "os.environ[\"DJANGO_ALLOW_ASYNC_UNSAFE\"] = \"true\"\n",
    "django.setup()\n",
    "\n",
    "from django.db.models import Sum, Max, Subquery, Q, F, Avg, Count, Min, Max, Sum, F, Q\n",
    "from django.db.models import Value, IntegerField\n",
    "from django.db.models.functions import Coalesce, Greatest, Floor\n",
    "from account.models import User\n",
    "from booth.models import Transaction, Participation\n",
    "from player.models import Player\n",
    "import random"
   ]
  },
  {
   "cell_type": "code",
   "execution_count": null,
   "id": "d04d0b4d",
   "metadata": {},
   "outputs": [],
   "source": []
  },
  {
   "cell_type": "code",
   "execution_count": 2,
   "id": "20de91be",
   "metadata": {},
   "outputs": [],
   "source": [
    "\n",
    "random_index = {\n",
    "    'money': [10000,10000,15000,20000,25000,30000,35000,40000,45000,50000],\n",
    "    'health_score': [20, 40, 40, 60, 60, 80, 80, 100, 100, 120],\n",
    "    'skill_score': [20, 20, 40, 40, 60, 60, 80, 100, 120, 130],\n",
    "    'growth_score': [5, 5, 5, 10, 10, 15, 20, 25, 30, 35],\n",
    "    'relationship_score': [10, 20, 30, 40, 50, 60, 70, 80, 90, 100],\n",
    "    'academic_level': [0, 0, 0, 0, 1, 1, 1, 2, 2, 4]\n",
    "}\n",
    "def create_player(u):\n",
    "    Player.objects.create(\n",
    "        user=u,\n",
    "        born_money=random.choice(random_index['money']),\n",
    "        born_health_score=random.choice(random_index['health_score']),\n",
    "        born_skill_score=random.choice(random_index['skill_score']),\n",
    "        born_growth_score=random.choice(random_index['growth_score']),\n",
    "        born_relationship_score=random.choice(random_index['relationship_score']),\n",
    "        born_academic_level=random.choice(random_index['academic_level']),\n",
    "        born_steps=15\n",
    "    )"
   ]
  },
  {
   "cell_type": "code",
   "execution_count": 3,
   "id": "18bc97dc",
   "metadata": {},
   "outputs": [],
   "source": [
    "# delete all existing players\n",
    "# Player.objects.all().delete()"
   ]
  },
  {
   "cell_type": "code",
   "execution_count": 3,
   "id": "ed19f101",
   "metadata": {},
   "outputs": [],
   "source": [
    "students = User.objects.filter(id__gte=290, id__lte=294)\n",
    "# others = User.objects.filter(id__gt=500)\n",
    "for u in students:\n",
    "    create_player(u)\n",
    "# for u in others:\n",
    "#     create_player(u)"
   ]
  },
  {
   "cell_type": "code",
   "execution_count": 2,
   "id": "76a83497",
   "metadata": {},
   "outputs": [
    {
     "data": {
      "text/plain": [
       "730"
      ]
     },
     "execution_count": 2,
     "metadata": {},
     "output_type": "execute_result"
    }
   ],
   "source": [
    "Player.objects.all().update(born_defect='')"
   ]
  },
  {
   "cell_type": "code",
   "execution_count": 4,
   "id": "b23132c2",
   "metadata": {},
   "outputs": [
    {
     "name": "stdout",
     "output_type": "stream",
     "text": [
      "   id  組別 級別       school  學校人數 學生姓名 last_name first_name  班級 男/女  room  \\\n",
      "0   1   1  A   禮賢會彭學高紀念中學   1.0  歐韋君         歐         韋君  5A   女  C201   \n",
      "1   2   1  A   禮賢會彭學高紀念中學  31.0  馬苡晴         馬         苡晴  4C   女  C201   \n",
      "2   3   1  A  香港布廠商會朱石麟中學   2.0  陳楚澄         陳         楚澄  F3   女  B204   \n",
      "3   4   1  A       深圳培僑書院   6.0  肖瀑峰         肖         瀑峰  F2   男  E204   \n",
      "4   5   2  A   禮賢會彭學高紀念中學   2.0  劉鍵澄         劉         鍵澄  5A   女  C201   \n",
      "\n",
      "  special  \n",
      "0     NaN  \n",
      "1  先天性心臟病  \n",
      "2      癌症  \n",
      "3     NaN  \n",
      "4      癌症  \n"
     ]
    }
   ],
   "source": [
    "# student google sheet\n",
    "import pandas as pd\n",
    "student_url = 'https://docs.google.com/spreadsheets/d/' + \\\n",
    "                   '1whM8CflvlkdVNdfdaaAAuzVn4YAMmCrws48Djrt8ONw' + \\\n",
    "                   '/export?gid=1768285988&format=csv'\n",
    "student_df = pd.read_csv(student_url)\n",
    "print(student_df.head())"
   ]
  },
  {
   "cell_type": "code",
   "execution_count": 8,
   "id": "46119ebe",
   "metadata": {},
   "outputs": [],
   "source": [
    "student_df = student_df[student_df['special'].notna()]\n",
    "\n",
    "for i, r in student_df.head().iterrows():\n",
    "    u = User.objects.get(id=r['id'])\n",
    "    p = Player.objects.get(user=u)\n",
    "    p.born_defect = r['special']\n",
    "    p.save()"
   ]
  }
 ],
 "metadata": {
  "kernelspec": {
   "display_name": "Django Shell-Plus",
   "language": "python",
   "name": "django_extensions"
  },
  "language_info": {
   "codemirror_mode": {
    "name": "ipython",
    "version": 3
   },
   "file_extension": ".py",
   "mimetype": "text/x-python",
   "name": "python",
   "nbconvert_exporter": "python",
   "pygments_lexer": "ipython3",
   "version": "3.10.9"
  }
 },
 "nbformat": 4,
 "nbformat_minor": 5
}
