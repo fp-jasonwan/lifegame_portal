{
 "cells": [
  {
   "cell_type": "code",
   "execution_count": 1,
   "id": "c85e727a",
   "metadata": {},
   "outputs": [],
   "source": [
    "import os\n",
    "import django\n",
    "os.environ.setdefault('DJANGO_SETTINGS_MODULE', 'rest.settings')\n",
    "os.environ[\"DJANGO_ALLOW_ASYNC_UNSAFE\"] = \"true\"\n",
    "django.setup()\n",
    "\n",
    "from django.db.models import Sum, Max, Subquery, Q, F, Avg, Count, Min, Max, Sum, F, Q\n",
    "from django.db.models import Value, IntegerField\n",
    "from django.db.models.functions import Coalesce, Greatest, Floor\n",
    "from account.models import User\n",
    "from booth.models import Transaction, Participation\n",
    "from player.models import Player\n",
    "import random"
   ]
  },
  {
   "cell_type": "code",
   "execution_count": null,
   "id": "d04d0b4d",
   "metadata": {},
   "outputs": [],
   "source": []
  },
  {
   "cell_type": "code",
   "execution_count": 2,
   "id": "20de91be",
   "metadata": {},
   "outputs": [],
   "source": [
    "\n",
    "random_index = {\n",
    "    'money': [10000,10000,15000,20000,25000,30000,35000,40000,45000,50000],\n",
    "    'health_score': [20, 40, 40, 60, 60, 80, 80, 100, 100, 120],\n",
    "    'skill_score': [20, 20, 40, 40, 60, 60, 80, 100, 120, 130],\n",
    "    'growth_score': [5, 5, 5, 10, 10, 15, 20, 25, 30, 35],\n",
    "    'relationship_score': [10, 20, 30, 40, 50, 60, 70, 80, 90, 100],\n",
    "    'academic_level': [0, 0, 0, 0, 1, 1, 1, 2, 2, 4]\n",
    "}\n",
    "def create_player(u):\n",
    "    Player.objects.create(\n",
    "        user=u,\n",
    "        born_money=random.choice(random_index['money']),\n",
    "        born_health_score=random.choice(random_index['health_score']),\n",
    "        born_skill_score=random.choice(random_index['skill_score']),\n",
    "        born_growth_score=random.choice(random_index['growth_score']),\n",
    "        born_relationship_score=random.choice(random_index['relationship_score']),\n",
    "        born_academic_level=random.choice(random_index['academic_level']),\n",
    "        born_steps=15\n",
    "    )"
   ]
  },
  {
   "cell_type": "code",
   "execution_count": 3,
   "id": "18bc97dc",
   "metadata": {},
   "outputs": [],
   "source": [
    "# delete all existing players\n",
    "# Player.objects.all().delete()"
   ]
  },
  {
   "cell_type": "code",
   "execution_count": 3,
   "id": "ed19f101",
   "metadata": {},
   "outputs": [],
   "source": [
    "students = User.objects.filter(id__gte=290, id__lte=294)\n",
    "# others = User.objects.filter(id__gt=500)\n",
    "for u in students:\n",
    "    create_player(u)\n",
    "# for u in others:\n",
    "#     create_player(u)"
   ]
  },
  {
   "cell_type": "code",
   "execution_count": 7,
   "id": "76a83497",
   "metadata": {},
   "outputs": [
    {
     "data": {
      "text/plain": [
       "(723, {'booth.Participation': 1, 'booth.Transaction': 2, 'player.Player': 720})"
      ]
     },
     "execution_count": 7,
     "metadata": {},
     "output_type": "execute_result"
    }
   ],
   "source": [
    "Player.objects.filter(active=False).delete()"
   ]
  }
 ],
 "metadata": {
  "kernelspec": {
   "display_name": "Django Shell-Plus",
   "language": "python",
   "name": "django_extensions"
  },
  "language_info": {
   "codemirror_mode": {
    "name": "ipython",
    "version": 3
   },
   "file_extension": ".py",
   "mimetype": "text/x-python",
   "name": "python",
   "nbconvert_exporter": "python",
   "pygments_lexer": "ipython3",
   "version": "3.10.9"
  }
 },
 "nbformat": 4,
 "nbformat_minor": 5
}
