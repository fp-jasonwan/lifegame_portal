{
 "cells": [
  {
   "cell_type": "code",
   "execution_count": 1,
   "id": "7fc929aa",
   "metadata": {},
   "outputs": [],
   "source": [
    "import os\n",
    "import django\n",
    "os.environ.setdefault('DJANGO_SETTINGS_MODULE', 'rest.settings')\n",
    "os.environ[\"DJANGO_ALLOW_ASYNC_UNSAFE\"] = \"true\"\n",
    "django.setup()\n",
    "\n",
    "from account.models import User"
   ]
  },
  {
   "cell_type": "code",
   "execution_count": 2,
   "id": "8d9fa2c7",
   "metadata": {},
   "outputs": [],
   "source": [
    "import pandas as pd"
   ]
  },
  {
   "cell_type": "code",
   "execution_count": 6,
   "id": "6bfad71f",
   "metadata": {},
   "outputs": [],
   "source": [
    "url_list = []\n",
    "for u in User.objects.all()[:100]:\n",
    "    player_id = u.encrypted_id\n",
    "    url = f'https://lionslifegame.web.app/player/{player_id}/'\n",
    "    url_list.append(url)"
   ]
  },
  {
   "cell_type": "code",
   "execution_count": 8,
   "id": "b0c46e53",
   "metadata": {},
   "outputs": [],
   "source": [
    "df = pd.DataFrame({'url': url_list})"
   ]
  },
  {
   "cell_type": "code",
   "execution_count": 10,
   "id": "8dd40911",
   "metadata": {},
   "outputs": [],
   "source": [
    "df.to_excel('data.xlsx')"
   ]
  }
 ],
 "metadata": {
  "kernelspec": {
   "display_name": "Django Shell-Plus",
   "language": "python",
   "name": "django_extensions"
  },
  "language_info": {
   "codemirror_mode": {
    "name": "ipython",
    "version": 3
   },
   "file_extension": ".py",
   "mimetype": "text/x-python",
   "name": "python",
   "nbconvert_exporter": "python",
   "pygments_lexer": "ipython3",
   "version": "3.10.9"
  }
 },
 "nbformat": 4,
 "nbformat_minor": 5
}
