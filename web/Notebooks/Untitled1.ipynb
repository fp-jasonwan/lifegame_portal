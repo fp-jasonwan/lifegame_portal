{
 "cells": [
  {
   "cell_type": "code",
   "execution_count": 11,
   "id": "dc457502",
   "metadata": {},
   "outputs": [],
   "source": [
    "import os\n",
    "import django\n",
    "os.environ.setdefault('DJANGO_SETTINGS_MODULE', 'rest.settings')\n",
    "os.environ[\"DJANGO_ALLOW_ASYNC_UNSAFE\"] = \"true\"\n",
    "django.setup()\n",
    "\n",
    "from account.models import User"
   ]
  },
  {
   "cell_type": "code",
   "execution_count": 2,
   "id": "59f07aa4",
   "metadata": {},
   "outputs": [],
   "source": [
    "import pandas as pd"
   ]
  },
  {
   "cell_type": "code",
   "execution_count": 6,
   "id": "73fdd88e",
   "metadata": {},
   "outputs": [],
   "source": [
    "url_list = []\n",
    "for u in User.objects.all()[:100]:\n",
    "    player_id = u.encrypted_id\n",
    "    url = f'https://lionslifegame.web.app/player/{player_id}/'\n",
    "    url_list.append(url)"
   ]
  },
  {
   "cell_type": "code",
   "execution_count": 8,
   "id": "433b55b4",
   "metadata": {},
   "outputs": [],
   "source": [
    "df = pd.DataFrame({'url': url_list})"
   ]
  },
  {
   "cell_type": "code",
   "execution_count": 10,
   "id": "830743ef",
   "metadata": {},
   "outputs": [],
   "source": [
    "df.to_excel('data.xlsx')"
   ]
  },
  {
   "cell_type": "code",
   "execution_count": 18,
   "id": "9b741078",
   "metadata": {},
   "outputs": [],
   "source": [
    "import django.utils.timezone"
   ]
  },
  {
   "cell_type": "code",
   "execution_count": 19,
   "id": "093a40c8",
   "metadata": {},
   "outputs": [
    {
     "data": {
      "text/plain": [
       "<UTC>"
      ]
     },
     "execution_count": 19,
     "metadata": {},
     "output_type": "execute_result"
    }
   ],
   "source": [
    "from pytz import timezone\n",
    "timezone('UTC')"
   ]
  },
  {
   "cell_type": "code",
   "execution_count": 38,
   "id": "b776e89a",
   "metadata": {},
   "outputs": [
    {
     "data": {
      "text/plain": [
       "datetime.datetime(2024, 2, 4, 16, 38, 51, 242853, tzinfo=<DstTzInfo 'Asia/Hong_Kong' HKT+8:00:00 STD>)"
      ]
     },
     "execution_count": 38,
     "metadata": {},
     "output_type": "execute_result"
    }
   ],
   "source": []
  }
 ],
 "metadata": {
  "kernelspec": {
   "display_name": "Django Shell-Plus",
   "language": "python",
   "name": "django_extensions"
  },
  "language_info": {
   "codemirror_mode": {
    "name": "ipython",
    "version": 3
   },
   "file_extension": ".py",
   "mimetype": "text/x-python",
   "name": "python",
   "nbconvert_exporter": "python",
   "pygments_lexer": "ipython3",
   "version": "3.10.9"
  }
 },
 "nbformat": 4,
 "nbformat_minor": 5
}
