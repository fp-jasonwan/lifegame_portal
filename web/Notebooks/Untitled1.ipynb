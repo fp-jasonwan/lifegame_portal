{
 "cells": [
  {
   "cell_type": "code",
   "execution_count": 9,
   "id": "dc457502",
   "metadata": {},
   "outputs": [],
   "source": [
    "import os\n",
    "import django\n",
    "os.environ.setdefault('DJANGO_SETTINGS_MODULE', 'rest.settings')\n",
    "os.environ[\"DJANGO_ALLOW_ASYNC_UNSAFE\"] = \"true\"\n",
    "django.setup()\n",
    "\n",
    "from account.models import User"
   ]
  },
  {
   "cell_type": "code",
   "execution_count": 2,
   "id": "59f07aa4",
   "metadata": {},
   "outputs": [],
   "source": [
    "import pandas as pd"
   ]
  },
  {
   "cell_type": "code",
   "execution_count": 6,
   "id": "73fdd88e",
   "metadata": {},
   "outputs": [],
   "source": [
    "url_list = []\n",
    "for u in User.objects.all()[:100]:\n",
    "    player_id = u.encrypted_id\n",
    "    url = f'https://lionslifegame.web.app/player/{player_id}/'\n",
    "    url_list.append(url)"
   ]
  },
  {
   "cell_type": "code",
   "execution_count": 8,
   "id": "433b55b4",
   "metadata": {},
   "outputs": [],
   "source": [
    "df = pd.DataFrame({'url': url_list})"
   ]
  },
  {
   "cell_type": "code",
   "execution_count": 10,
   "id": "830743ef",
   "metadata": {},
   "outputs": [],
   "source": [
    "df.to_excel('data.xlsx')"
   ]
  },
  {
   "cell_type": "code",
   "execution_count": 18,
   "id": "9b741078",
   "metadata": {},
   "outputs": [],
   "source": [
    "import django.utils.timezone"
   ]
  },
  {
   "cell_type": "code",
   "execution_count": 19,
   "id": "093a40c8",
   "metadata": {},
   "outputs": [
    {
     "data": {
      "text/plain": [
       "<UTC>"
      ]
     },
     "execution_count": 19,
     "metadata": {},
     "output_type": "execute_result"
    }
   ],
   "source": [
    "from pytz import timezone\n",
    "timezone('UTC')"
   ]
  },
  {
   "cell_type": "code",
   "execution_count": 7,
   "id": "b776e89a",
   "metadata": {},
   "outputs": [],
   "source": [
    "u = User.objects.get(id=1)\n",
    "if u.player:\n",
    "    print('hi')"
   ]
  },
  {
   "cell_type": "code",
   "execution_count": 12,
   "id": "bf9b7097",
   "metadata": {},
   "outputs": [
    {
     "ename": "AttributeError",
     "evalue": "'QuerySet' object has no attribute 'player'",
     "output_type": "error",
     "traceback": [
      "\u001b[1;31m---------------------------------------------------------------------------\u001b[0m",
      "\u001b[1;31mAttributeError\u001b[0m                            Traceback (most recent call last)",
      "Cell \u001b[1;32mIn[12], line 2\u001b[0m\n\u001b[0;32m      1\u001b[0m users \u001b[38;5;241m=\u001b[39m User\u001b[38;5;241m.\u001b[39mobjects\u001b[38;5;241m.\u001b[39mall()\n\u001b[1;32m----> 2\u001b[0m \u001b[43musers\u001b[49m\u001b[38;5;241;43m.\u001b[39;49m\u001b[43mplayer\u001b[49m\n",
      "\u001b[1;31mAttributeError\u001b[0m: 'QuerySet' object has no attribute 'player'"
     ]
    }
   ],
   "source": [
    "users = User.objects.all()\n",
    "users.player"
   ]
  }
 ],
 "metadata": {
  "kernelspec": {
   "display_name": "Django Shell-Plus",
   "language": "python",
   "name": "django_extensions"
  },
  "language_info": {
   "codemirror_mode": {
    "name": "ipython",
    "version": 3
   },
   "file_extension": ".py",
   "mimetype": "text/x-python",
   "name": "python",
   "nbconvert_exporter": "python",
   "pygments_lexer": "ipython3",
   "version": "3.10.9"
  }
 },
 "nbformat": 4,
 "nbformat_minor": 5
}
