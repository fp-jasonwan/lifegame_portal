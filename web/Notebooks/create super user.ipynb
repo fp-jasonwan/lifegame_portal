{
 "cells": [
  {
   "cell_type": "code",
   "execution_count": 1,
   "id": "1156104c",
   "metadata": {},
   "outputs": [],
   "source": [
    "import os\n",
    "import django\n",
    "os.environ.setdefault('DJANGO_SETTINGS_MODULE', 'rest.settings')\n",
    "os.environ[\"DJANGO_ALLOW_ASYNC_UNSAFE\"] = \"true\"\n",
    "django.setup()\n",
    "\n",
    "from account.models import User"
   ]
  },
  {
   "cell_type": "code",
   "execution_count": 2,
   "id": "24742935",
   "metadata": {},
   "outputs": [],
   "source": [
    "# User.objects.create(\n",
    "#         id = 998,\n",
    "#         username = 'Z1',\n",
    "#         password = 'lifegame', \n",
    "#         user_type = 'oc',\n",
    "#         first_name = 'first_name',\n",
    "#         last_name = 'last_name',\n",
    "#         nick_name = 'nick_name',\n",
    "#         school = 'lions club', \n",
    "#         school_code = ''\n",
    "#     )\n",
    "\n",
    "user = User.objects.get(id=998)\n",
    "user.set_password('lifegame')\n",
    "user.save()"
   ]
  },
  {
   "cell_type": "code",
   "execution_count": 4,
   "id": "570167fb",
   "metadata": {},
   "outputs": [],
   "source": [
    "u = User.objects.get(id=998)"
   ]
  },
  {
   "cell_type": "code",
   "execution_count": 7,
   "id": "1bd3ac0d",
   "metadata": {},
   "outputs": [],
   "source": [
    "new_booth = Booth.objects.create(\n",
    "        id='Z1',\n",
    "        booth_in_charge=u,\n",
    "        name = '死神'\n",
    "    )\n",
    "new_booth.booth_admins.set([u])"
   ]
  },
  {
   "cell_type": "code",
   "execution_count": null,
   "id": "8020e90f",
   "metadata": {},
   "outputs": [],
   "source": []
  }
 ],
 "metadata": {
  "kernelspec": {
   "display_name": "Django Shell-Plus",
   "language": "python",
   "name": "django_extensions"
  },
  "language_info": {
   "codemirror_mode": {
    "name": "ipython",
    "version": 3
   },
   "file_extension": ".py",
   "mimetype": "text/x-python",
   "name": "python",
   "nbconvert_exporter": "python",
   "pygments_lexer": "ipython3",
   "version": "3.10.9"
  }
 },
 "nbformat": 4,
 "nbformat_minor": 5
}
