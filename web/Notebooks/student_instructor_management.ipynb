{
 "cells": [
  {
   "cell_type": "code",
   "execution_count": 1,
   "id": "03c08e4e",
   "metadata": {},
   "outputs": [],
   "source": [
    "import os\n",
    "import django\n",
    "os.environ.setdefault('DJANGO_SETTINGS_MODULE', 'rest.settings')\n",
    "os.environ[\"DJANGO_ALLOW_ASYNC_UNSAFE\"] = \"true\"\n",
    "django.setup()\n",
    "import pandas as pd\n",
    "from account.models import User, InstructorGroup"
   ]
  },
  {
   "cell_type": "code",
   "execution_count": 2,
   "id": "76629819",
   "metadata": {},
   "outputs": [
    {
     "data": {
      "text/plain": [
       "<User: 501 - last_name first_name>"
      ]
     },
     "execution_count": 2,
     "metadata": {},
     "output_type": "execute_result"
    }
   ],
   "source": [
    "User.objects.get(id=501)"
   ]
  },
  {
   "cell_type": "code",
   "execution_count": null,
   "id": "a827d5eb",
   "metadata": {},
   "outputs": [],
   "source": [
    "student_id = 5\n",
    "instructor_id = 801\n",
    "for i in range(1, 81):\n",
    "    student_list = []\n",
    "    if i <=40:\n",
    "        for a in range(4):\n",
    "            s = User.objects.get(id=student_id)\n",
    "            student_list.append(s)\n",
    "            student_id+=1\n",
    "    else:\n",
    "        for a in range(3):\n",
    "            s = User.objects.get(id=student_id)\n",
    "            student_list.append(s)\n",
    "            student_id+=1\n",
    "    instructor = User.objects.get(id=instructor_id)\n",
    "    instructor_id += 1\n",
    "    new_group = InstructorGroup.objects.create(id=i)\n",
    "    new_group.instructor.set([instructor])\n",
    "    new_group.students.set(student_list)\n",
    "    new_group.save()"
   ]
  },
  {
   "cell_type": "code",
   "execution_count": 8,
   "id": "2ddbea59",
   "metadata": {},
   "outputs": [
    {
     "name": "stdout",
     "output_type": "stream",
     "text": [
      "   id  組別 級別       school  學校人數 學生姓名 last_name first_name  班級 男/女  room  \\\n",
      "0   1   1  A   禮賢會彭學高紀念中學   1.0  歐韋君         歐         韋君  5A   女  C201   \n",
      "1   2   1  A   禮賢會彭學高紀念中學  31.0  馬苡晴         馬         苡晴  4C   女  C201   \n",
      "2   3   1  A  香港布廠商會朱石麟中學   2.0  陳楚澄         陳         楚澄  F3   女  B204   \n",
      "3   4   1  A       深圳培僑書院   6.0  肖瀑峰         肖         瀑峰  F2   男  E204   \n",
      "4   5   2  A   禮賢會彭學高紀念中學   2.0  劉鍵澄         劉         鍵澄  5A   女  C201   \n",
      "\n",
      "  special  \n",
      "0     NaN  \n",
      "1  先天性心臟病  \n",
      "2      癌症  \n",
      "3     NaN  \n",
      "4      癌症  \n",
      "    id   屬會名稱： 姓名(中文)     姓名 (英文) last_name first_name 手提電話 (Whats app適用)  \\\n",
      "0  801  中華傳統文化    謝燕珊     Ada Tze         謝         燕珊           61312254   \n",
      "1  802     NaN    陳曉君  Adele Chan         陳         曉君           62739203   \n",
      "2  803      米埔    譚鎭誠    Alan Tam         譚         鎭誠           90882629   \n",
      "3  804     九龍塘    吳梓騫    Alice Ng         吳         梓騫           64998861   \n",
      "4  805     西九龍    黎雅麗    Ally Lai         黎         雅麗           91271952   \n",
      "\n",
      "  電郵 Email (用於PORTAL導師登入)  instructor_group                      encrypted ID  \\\n",
      "0    adaron37@hotmail.com                 1  aHbyxzYSy4Jhkd6UKDh4i8I2OLGwU7fW   \n",
      "1     dearadele@gmail.com                 2  PdvZUBiCMSilaAHy2quEXtyoGYVCKlvo   \n",
      "2     Cs-alan@hotmail.com                 3  dRLNHPMhDLAbVxpEXJmkGeV6X1ixrYE7   \n",
      "3    aliceng@hygeiams.com                 4  pWBwcRfmNZnyIn9IeKYZs9wUaIVWce3D   \n",
      "4   ally7768@yahoo.com.hk                 5  dF18diuTbw8FsWuEY1imEZIqpeA39BsK   \n",
      "\n",
      "                                                link  \n",
      "0  https://lionslifegame.app/player/aHbyxzYSy4Jhk...  \n",
      "1  https://lionslifegame.app/player/PdvZUBiCMSila...  \n",
      "2  https://lionslifegame.app/player/dRLNHPMhDLAbV...  \n",
      "3  https://lionslifegame.app/player/pWBwcRfmNZnyI...  \n",
      "4  https://lionslifegame.app/player/dF18diuTbw8Fs...  \n"
     ]
    }
   ],
   "source": [
    "# Instructor google sheet\n",
    "student_url = 'https://docs.google.com/spreadsheets/d/' + \\\n",
    "                   '1whM8CflvlkdVNdfdaaAAuzVn4YAMmCrws48Djrt8ONw' + \\\n",
    "                   '/export?gid=1768285988&format=csv'\n",
    "student_df = pd.read_csv(student_url)\n",
    "print(student_df.head())\n",
    "\n",
    "instructor_url = 'https://docs.google.com/spreadsheets/d/' + \\\n",
    "                   '1whM8CflvlkdVNdfdaaAAuzVn4YAMmCrws48Djrt8ONw' + \\\n",
    "                   '/export?gid=1565332943&format=csv'\n",
    "instructor_df = pd.read_csv(instructor_url)\n",
    "print(instructor_df.head())"
   ]
  },
  {
   "cell_type": "code",
   "execution_count": 38,
   "id": "28865668",
   "metadata": {},
   "outputs": [],
   "source": [
    "for i, r in instructor_df.iterrows():\n",
    "    i_id = r['id']\n",
    "    user = User.objects.get(id=i_id)\n",
    "    user.first_name = r['first_name']\n",
    "    user.last_name = r['last_name']\n",
    "    user.save()\n",
    "    \n",
    "    group = r['instructor_group']\n",
    "    instructor_group = InstructorGroup.objects.get(id=group)\n",
    "    instructor_group.instructor.set(list(instructor_group.instructor.all()) + [user])\n",
    "    instructor_group.save()"
   ]
  },
  {
   "cell_type": "code",
   "execution_count": 31,
   "id": "8fee3009",
   "metadata": {},
   "outputs": [
    {
     "data": {
      "text/plain": [
       "['a', 'b']"
      ]
     },
     "execution_count": 31,
     "metadata": {},
     "output_type": "execute_result"
    }
   ],
   "source": []
  },
  {
   "cell_type": "code",
   "execution_count": 49,
   "id": "44dcaa08",
   "metadata": {},
   "outputs": [],
   "source": [
    "# instructor_db_df = pd.DataFrame(User.objects.filter(id__gte=801).filter(id__lte=873).all().values())\n",
    "# instructor_db_df['url'] = \"https://lionslifegame.app/player/\" + instructor_db_df['encrypted_id']\n",
    "# instructor_db_df['name'] = instructor_db_df['last_name'] + instructor_db_df['first_name']\n",
    "# instructor_print_df = instructor_db_df[['id', 'name', 'url']]\n",
    "# for i, r in instructor_print_df.iterrows():\n",
    "#     gp = InstructorGroup.objects.filter(instructor=User.objects.get(id=r['id'])).first()\n",
    "#     instructor_print_df.loc[i, 'instructor_group'] = int(gp.id)\n",
    "instructor_print_df.to_excel('instructor.xlsx', index=None)"
   ]
  },
  {
   "cell_type": "code",
   "execution_count": 4,
   "id": "f0a6669b",
   "metadata": {},
   "outputs": [],
   "source": [
    "student_df = student_df[-5:]\n",
    "# student_df = student_df[student_df['school'].isin(schools)]\n",
    "# student_df"
   ]
  },
  {
   "cell_type": "code",
   "execution_count": 5,
   "id": "66649cf5",
   "metadata": {},
   "outputs": [],
   "source": [
    "for i, r in student_df.iterrows():\n",
    "    i_id = r['id']\n",
    "    user = User.objects.get(id=i_id)\n",
    "    user.first_name = r['first_name']\n",
    "    user.last_name = r['last_name']\n",
    "    user.school = r['school']\n",
    "    user.room_no = r['room']\n",
    "    user.save()\n",
    "    \n",
    "    group = r['組別']\n",
    "    instructor_group = InstructorGroup.objects.get(id=group)\n",
    "    instructor_group.students.set(list(instructor_group.students.all()) + [user])\n",
    "    instructor_group.save()"
   ]
  },
  {
   "cell_type": "code",
   "execution_count": 6,
   "id": "ed7b65b2",
   "metadata": {},
   "outputs": [],
   "source": [
    "student_group_df = student_df[['id', '組別']]"
   ]
  },
  {
   "cell_type": "code",
   "execution_count": 7,
   "id": "1f730f62",
   "metadata": {},
   "outputs": [],
   "source": [
    "student_db_df = pd.DataFrame(User.objects.filter(id__gte=1).filter(id__lte=294).all().values())\n",
    "student_db_df['url'] = \"https://lionslifegame.app/player/\" + student_db_df['encrypted_id']\n",
    "student_db_df['name'] = student_db_df['last_name'] + student_db_df['first_name']\n",
    "student_print_df = student_db_df[['id', 'name', 'url', 'room_no']]\n",
    "student_print_df = student_print_df.merge(student_group_df, on='id')\n",
    "student_print_df.to_excel('student.xlsx', index=None)"
   ]
  },
  {
   "cell_type": "code",
   "execution_count": 61,
   "id": "7910e90d",
   "metadata": {},
   "outputs": [],
   "source": [
    "for i, r in student_df.iterrows():\n",
    "    i_id = r['id']\n",
    "    user = User.objects.get(id=i_id)\n",
    "    user.best_booth = None\n",
    "    user.save()"
   ]
  },
  {
   "cell_type": "code",
   "execution_count": null,
   "id": "7f9ca0fb",
   "metadata": {},
   "outputs": [],
   "source": []
  },
  {
   "cell_type": "code",
   "execution_count": 3,
   "id": "0a956ce6",
   "metadata": {},
   "outputs": [],
   "source": [
    "# VIP"
   ]
  },
  {
   "cell_type": "code",
   "execution_count": 5,
   "id": "d22622a2",
   "metadata": {},
   "outputs": [
    {
     "name": "stdout",
     "output_type": "stream",
     "text": [
      "    id     name last_name  first_name\n",
      "0  501   一心集團 1      一心集團           1\n",
      "1  502   一心集團 2      一心集團           2\n",
      "2  503   一心集團 3      一心集團           3\n",
      "3  504   一心集團 4      一心集團           4\n",
      "4  505  中區獅子會 1     中區獅子會           1\n"
     ]
    }
   ],
   "source": [
    "\n",
    "vip_url = 'https://docs.google.com/spreadsheets/d/' + \\\n",
    "                   '1whM8CflvlkdVNdfdaaAAuzVn4YAMmCrws48Djrt8ONw' + \\\n",
    "                   '/export?gid=1465269158&format=csv'\n",
    "vip_df = pd.read_csv(vip_url)\n",
    "print(vip_df.head())"
   ]
  },
  {
   "cell_type": "code",
   "execution_count": 6,
   "id": "36d403b3",
   "metadata": {},
   "outputs": [],
   "source": [
    "for i, r in vip_df.iterrows():\n",
    "    i_id = r['id']\n",
    "    user = User.objects.get(id=i_id)\n",
    "    user.first_name = r['first_name']\n",
    "    user.last_name = r['last_name']\n",
    "    user.save()"
   ]
  },
  {
   "cell_type": "code",
   "execution_count": 7,
   "id": "66cb02ea",
   "metadata": {},
   "outputs": [],
   "source": [
    "vip_db_df = pd.DataFrame(User.objects.filter(id__gte=501).filter(id__lte=592).all().values())\n",
    "vip_db_df['url'] = \"https://lionslifegame.app/player/\" + vip_db_df['encrypted_id']\n",
    "vip_db_df['name'] = vip_db_df['last_name'] + vip_db_df['first_name']\n",
    "vip_print_df = vip_db_df[['id', 'name', 'url']]\n",
    "vip_print_df.to_excel('vip.xlsx', index=None)"
   ]
  },
  {
   "cell_type": "code",
   "execution_count": 4,
   "id": "b45a254b",
   "metadata": {},
   "outputs": [
    {
     "data": {
      "text/plain": [
       "datetime.datetime(2024, 3, 15, 15, 51, 17, 24643, tzinfo=datetime.timezone.utc)"
      ]
     },
     "execution_count": 4,
     "metadata": {},
     "output_type": "execute_result"
    }
   ],
   "source": [
    "from django.utils import timezone\n",
    "timezone.now()"
   ]
  }
 ],
 "metadata": {
  "kernelspec": {
   "display_name": "Django Shell-Plus",
   "language": "python",
   "name": "django_extensions"
  },
  "language_info": {
   "codemirror_mode": {
    "name": "ipython",
    "version": 3
   },
   "file_extension": ".py",
   "mimetype": "text/x-python",
   "name": "python",
   "nbconvert_exporter": "python",
   "pygments_lexer": "ipython3",
   "version": "3.10.9"
  }
 },
 "nbformat": 4,
 "nbformat_minor": 5
}
