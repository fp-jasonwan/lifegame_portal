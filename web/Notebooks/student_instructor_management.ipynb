{
 "cells": [
  {
   "cell_type": "code",
   "execution_count": null,
   "id": "03c08e4e",
   "metadata": {},
   "outputs": [],
   "source": [
    "import os\n",
    "import django\n",
    "os.environ.setdefault('DJANGO_SETTINGS_MODULE', 'rest.settings')\n",
    "os.environ[\"DJANGO_ALLOW_ASYNC_UNSAFE\"] = \"true\"\n",
    "django.setup()\n",
    "\n",
    "from account.models import User, InstructorGroup"
   ]
  },
  {
   "cell_type": "code",
   "execution_count": null,
   "id": "76629819",
   "metadata": {},
   "outputs": [],
   "source": [
    "# for i in range(901,501):\n",
    "#     u = User.objects.get(id=i)\n",
    "#     u.last_name = '學生'\n",
    "#     u.first_name = str(i)\n",
    "#     u.save()\n",
    "# for i in range(901,942):\n",
    "#     u = User.objects.get(id=i)\n",
    "#     u.last_name = '攤位'\n",
    "#     u.save()"
   ]
  },
  {
   "cell_type": "code",
   "execution_count": null,
   "id": "a827d5eb",
   "metadata": {},
   "outputs": [],
   "source": [
    "student_id = 5\n",
    "instructor_id = 801\n",
    "for i in range(1, 81):\n",
    "    student_list = []\n",
    "    if i <=40:\n",
    "        for a in range(4):\n",
    "            s = User.objects.get(id=student_id)\n",
    "            student_list.append(s)\n",
    "            student_id+=1\n",
    "    else:\n",
    "        for a in range(3):\n",
    "            s = User.objects.get(id=student_id)\n",
    "            student_list.append(s)\n",
    "            student_id+=1\n",
    "    instructor = User.objects.get(id=instructor_id)\n",
    "    instructor_id += 1\n",
    "    new_group = InstructorGroup.objects.create(id=i)\n",
    "    new_group.instructor.set([instructor])\n",
    "    new_group.students.set(student_list)\n",
    "    new_group.save()"
   ]
  },
  {
   "cell_type": "code",
   "execution_count": null,
   "id": "989a97db",
   "metadata": {},
   "outputs": [],
   "source": [
    "new_group.students.set(student_list)\n",
    "new_group.save()"
   ]
  },
  {
   "cell_type": "code",
   "execution_count": null,
   "id": "fa623b0b",
   "metadata": {},
   "outputs": [],
   "source": [
    "User.objects.filter(id__gte=801).filter(id__lte=880).update(user_type='instructor')"
   ]
  },
  {
   "cell_type": "code",
   "execution_count": 3,
   "id": "28865668",
   "metadata": {},
   "outputs": [],
   "source": [
    "names = \"陳曉君,林修基,吳梓騫,馬肖玲,陳嘉欣,列學明,朱麗儀,許智鴻,黃順愛,謝燕珊,陳潔玲,黃啟智,葉笑彤,陳安安,鍾慧婷,鄧鎮晞,陳𣌀,周家謙,袁兆豐,伍于宏,譚鎭誠,李秀美,劉婉雯,林建昌,許卓凝,余綺敏,黃智威,余華強,黎雅麗,莫倩瑩,薛來鏹,歐偉妙,張璇菲,黃以銘,蔡永傑,林泇妏,楊詠文,陳中正,李佳斌,陳詩琳,麥偉玲,黃宏達,卓慧芬,施禮賢,趙汝亨,翁珮玲,周兆宇,張珮羚,蘇家駿,田爵楊,吳鴻棍,梁佩瑜,宋月華,羅麗君,李德俊,程俊昌,伍忠豪,楊倩怡,陳國豪,蔡美儀,徐歷遜,歐耀邦,周虹光,林惠芳,卓友森,莊晴雯,關卓茹,譚梓晴,鄧樂怡,徐佩嫻,黃韵婷,黃嘉豪,黃永財,陳詠珊,李東江,蔡淑琼,卓輝明,朱偉豪,謝承亨,黃煒杰\"\n",
    "name_list = names.split(',')\n",
    "instructor_id = 801\n",
    "for i in range(0, 80):\n",
    "    last_name = name_list[i][0]\n",
    "    first_name = name_list[i][1:]\n",
    "    instructor = User.objects.get(id=instructor_id)\n",
    "    instructor_id += 1\n",
    "    instructor.last_name = last_name\n",
    "    instructor.first_name = first_name\n",
    "    instructor.save()"
   ]
  }
 ],
 "metadata": {
  "kernelspec": {
   "display_name": "Django Shell-Plus",
   "language": "python",
   "name": "django_extensions"
  },
  "language_info": {
   "codemirror_mode": {
    "name": "ipython",
    "version": 3
   },
   "file_extension": ".py",
   "mimetype": "text/x-python",
   "name": "python",
   "nbconvert_exporter": "python",
   "pygments_lexer": "ipython3",
   "version": "3.10.9"
  }
 },
 "nbformat": 4,
 "nbformat_minor": 5
}
